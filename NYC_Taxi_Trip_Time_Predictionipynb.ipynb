{
  "cells": [
    {
      "cell_type": "markdown",
      "metadata": {
        "id": "view-in-github",
        "colab_type": "text"
      },
      "source": [
        "<a href=\"https://colab.research.google.com/github/mukeshjnv/NYC-Taxi-Trip-Time-Prediction-Regression-ML-problem/blob/main/NYC_Taxi_Trip_Time_Predictionipynb.ipynb\" target=\"_parent\"><img src=\"https://colab.research.google.com/assets/colab-badge.svg\" alt=\"Open In Colab\"/></a>"
      ]
    },
    {
      "cell_type": "markdown",
      "metadata": {
        "id": "UZvfS0hY-HZM"
      },
      "source": [
        "<h1> Task </h> \n",
        "\n",
        "Your task is to build a model that predicts the total ride duration of taxi trips in New York City. Your primary dataset is one released by the NYC Taxi and Limousine Commission, which includes pickup time, geo-coordinates, number of passengers, and several other variables"
      ]
    },
    {
      "cell_type": "markdown",
      "metadata": {
        "id": "t41Iqiac3fcv"
      },
      "source": [
        "<ul depth=\"0\" class=\"list-disc my-4 w-11/12\">\n",
        "<li index=\"0\" class=\"text-base list-inside py-1 listing w-11/12 text-justify\">Efficient EDA</li>\n",
        "<li index=\"1\" class=\"text-base list-inside py-1 listing w-11/12 text-justify\">Encoding if necessary.</li>\n",
        "<li index=\"2\" class=\"text-base list-inside py-1 listing w-11/12 text-justify\">Feature selection, new feature creation</li>\n",
        "<li index=\"3\" class=\"text-base list-inside py-1 listing w-11/12 text-justify\">Dealing with multicollinearity if any</li>\n",
        "<li index=\"4\" class=\"text-base list-inside py-1 listing w-11/12 text-justify\">Feature scaling</li>\n",
        "<li index=\"5\" class=\"text-base list-inside py-1 listing w-11/12 text-justify\">Understanding the target feature and its distribution</li>\n",
        "<li index=\"6\" class=\"text-base list-inside py-1 listing w-11/12 text-justify\">Modeling - use at least two algorithms</li>\n",
        "<li index=\"7\" class=\"text-base list-inside py-1 listing w-11/12 text-justify\">Evaluation and improvement of model.</li>\n",
        "<li index=\"8\" class=\"text-base list-inside py-1 listing w-11/12 text-justify\">Feature Importance and Conclusion</li>\n",
        "<li index=\"9\" class=\"text-base list-inside py-1 listing w-11/12 text-justify\">Understanding of how your project is useful to stakeholders?</li>\n",
        "</ul>"
      ]
    },
    {
      "cell_type": "code",
      "execution_count": null,
      "metadata": {
        "colab": {
          "base_uri": "https://localhost:8080/"
        },
        "id": "Anazh89S0JM3",
        "outputId": "7257b817-0dbb-40d9-c52e-06666a7f0e73"
      },
      "outputs": [
        {
          "output_type": "stream",
          "name": "stdout",
          "text": [
            "Mounted at /content/drive\n"
          ]
        }
      ],
      "source": [
        "from google.colab import drive\n",
        "drive.mount('/content/drive')"
      ]
    },
    {
      "cell_type": "code",
      "execution_count": null,
      "metadata": {
        "id": "FPdo5ixQ-U8a"
      },
      "outputs": [],
      "source": [
        "import pandas as pd\n",
        "import numpy as np\n",
        "import matplotlib.pyplot as plt\n",
        "import seaborn as sns\n",
        "from datetime import datetime\n",
        "\n",
        "from sklearn.preprocessing import StandardScaler\n",
        "from sklearn.model_selection import train_test_split\n",
        "from sklearn.preprocessing import MinMaxScaler\n",
        "\n",
        "from sklearn.linear_model import LinearRegression\n",
        "from sklearn.tree import DecisionTreeRegressor\n",
        "from sklearn.neighbors import KNeighborsRegressor\n",
        "from sklearn.svm import SVR\n",
        "from sklearn.ensemble import RandomForestRegressor\n",
        "from sklearn.metrics import mean_squared_error, r2_score"
      ]
    },
    {
      "cell_type": "code",
      "execution_count": null,
      "metadata": {
        "id": "wCdV2m9jglWw"
      },
      "outputs": [],
      "source": [
        "data=pd.read_csv('/content/drive/MyDrive/NYC Taxi Data.csv')"
      ]
    },
    {
      "cell_type": "markdown",
      "metadata": {
        "id": "fu6TQXbZU2K9"
      },
      "source": [
        "# data cleaning"
      ]
    },
    {
      "cell_type": "code",
      "execution_count": null,
      "metadata": {
        "colab": {
          "base_uri": "https://localhost:8080/",
          "height": 165
        },
        "id": "FV7vFrajNiqd",
        "outputId": "63dd1943-6c22-4ede-9df0-497b09ffbf1e"
      },
      "outputs": [
        {
          "ename": "NameError",
          "evalue": "ignored",
          "output_type": "error",
          "traceback": [
            "\u001b[0;31m---------------------------------------------------------------------------\u001b[0m",
            "\u001b[0;31mNameError\u001b[0m                                 Traceback (most recent call last)",
            "\u001b[0;32m<ipython-input-12-b1c419a430e4>\u001b[0m in \u001b[0;36m<cell line: 1>\u001b[0;34m()\u001b[0m\n\u001b[0;32m----> 1\u001b[0;31m \u001b[0mdf_sample\u001b[0m \u001b[0;34m=\u001b[0m \u001b[0mdf\u001b[0m\u001b[0;34m.\u001b[0m\u001b[0msample\u001b[0m\u001b[0;34m(\u001b[0m\u001b[0mn\u001b[0m\u001b[0;34m=\u001b[0m\u001b[0;36m10000\u001b[0m\u001b[0;34m,\u001b[0m \u001b[0mrandom_state\u001b[0m\u001b[0;34m=\u001b[0m\u001b[0;36m1\u001b[0m\u001b[0;34m)\u001b[0m\u001b[0;34m\u001b[0m\u001b[0;34m\u001b[0m\u001b[0m\n\u001b[0m",
            "\u001b[0;31mNameError\u001b[0m: name 'df' is not defined"
          ]
        }
      ],
      "source": [
        "df_sample = df.sample(n=10000, random_state=1)"
      ]
    },
    {
      "cell_type": "code",
      "execution_count": null,
      "metadata": {
        "colab": {
          "base_uri": "https://localhost:8080/",
          "height": 183
        },
        "id": "8kbrXa1tLAUI",
        "outputId": "8b9087b9-5baa-4def-90a1-a776f9f97760"
      },
      "outputs": [
        {
          "ename": "NameError",
          "evalue": "ignored",
          "output_type": "error",
          "traceback": [
            "\u001b[0;31m---------------------------------------------------------------------------\u001b[0m",
            "\u001b[0;31mNameError\u001b[0m                                 Traceback (most recent call last)",
            "\u001b[0;32m<ipython-input-8-788a572c2ab4>\u001b[0m in \u001b[0;36m<cell line: 1>\u001b[0;34m()\u001b[0m\n\u001b[0;32m----> 1\u001b[0;31m \u001b[0mlat\u001b[0m\u001b[0;34m=\u001b[0m\u001b[0mdf\u001b[0m\u001b[0;34m.\u001b[0m\u001b[0msample\u001b[0m\u001b[0;34m(\u001b[0m\u001b[0mn\u001b[0m\u001b[0;34m=\u001b[0m\u001b[0;36m10000\u001b[0m\u001b[0;34m,\u001b[0m \u001b[0mrandom_state\u001b[0m\u001b[0;34m=\u001b[0m\u001b[0;36m42\u001b[0m\u001b[0;34m)\u001b[0m\u001b[0;34m[\u001b[0m\u001b[0;34m'pickup_latitude'\u001b[0m\u001b[0;34m]\u001b[0m\u001b[0;34m.\u001b[0m\u001b[0mtolist\u001b[0m\u001b[0;34m(\u001b[0m\u001b[0;34m)\u001b[0m\u001b[0;34m\u001b[0m\u001b[0;34m\u001b[0m\u001b[0m\n\u001b[0m\u001b[1;32m      2\u001b[0m \u001b[0mlon\u001b[0m\u001b[0;34m=\u001b[0m\u001b[0mdf\u001b[0m\u001b[0;34m.\u001b[0m\u001b[0msample\u001b[0m\u001b[0;34m(\u001b[0m\u001b[0mn\u001b[0m\u001b[0;34m=\u001b[0m\u001b[0;36m10000\u001b[0m\u001b[0;34m,\u001b[0m \u001b[0mrandom_state\u001b[0m\u001b[0;34m=\u001b[0m\u001b[0;36m42\u001b[0m\u001b[0;34m)\u001b[0m\u001b[0;34m[\u001b[0m\u001b[0;34m'pickup_longitude'\u001b[0m\u001b[0;34m]\u001b[0m\u001b[0;34m.\u001b[0m\u001b[0mtolist\u001b[0m\u001b[0;34m(\u001b[0m\u001b[0;34m)\u001b[0m\u001b[0;34m\u001b[0m\u001b[0;34m\u001b[0m\u001b[0m\n",
            "\u001b[0;31mNameError\u001b[0m: name 'df' is not defined"
          ]
        }
      ],
      "source": [
        "lat=df.sample(n=10000, random_state=42)['pickup_latitude'].tolist()\n",
        "lon=df.sample(n=10000, random_state=42)['pickup_longitude'].tolist()"
      ]
    },
    {
      "cell_type": "code",
      "execution_count": null,
      "metadata": {
        "colab": {
          "base_uri": "https://localhost:8080/",
          "height": 235
        },
        "id": "wb3B18z4VJLb",
        "outputId": "2f496b82-fc74-4365-acd9-df06c15d1efa"
      },
      "outputs": [
        {
          "ename": "NameError",
          "evalue": "ignored",
          "output_type": "error",
          "traceback": [
            "\u001b[0;31m---------------------------------------------------------------------------\u001b[0m",
            "\u001b[0;31mNameError\u001b[0m                                 Traceback (most recent call last)",
            "\u001b[0;32m<ipython-input-13-5bd585be7550>\u001b[0m in \u001b[0;36m<cell line: 1>\u001b[0;34m()\u001b[0m\n\u001b[0;32m----> 1\u001b[0;31m \u001b[0mlat\u001b[0m\u001b[0;34m=\u001b[0m\u001b[0mdf\u001b[0m\u001b[0;34m.\u001b[0m\u001b[0msample\u001b[0m\u001b[0;34m(\u001b[0m\u001b[0mn\u001b[0m\u001b[0;34m=\u001b[0m\u001b[0;36m10000\u001b[0m\u001b[0;34m,\u001b[0m \u001b[0mrandom_state\u001b[0m\u001b[0;34m=\u001b[0m\u001b[0;36m42\u001b[0m\u001b[0;34m)\u001b[0m\u001b[0;34m[\u001b[0m\u001b[0;34m'dropoff_latitude'\u001b[0m\u001b[0;34m]\u001b[0m\u001b[0;34m.\u001b[0m\u001b[0mtolist\u001b[0m\u001b[0;34m(\u001b[0m\u001b[0;34m)\u001b[0m\u001b[0;34m\u001b[0m\u001b[0;34m\u001b[0m\u001b[0m\n\u001b[0m\u001b[1;32m      2\u001b[0m \u001b[0mlon\u001b[0m\u001b[0;34m=\u001b[0m\u001b[0mdf\u001b[0m\u001b[0;34m.\u001b[0m\u001b[0msample\u001b[0m\u001b[0;34m(\u001b[0m\u001b[0mn\u001b[0m\u001b[0;34m=\u001b[0m\u001b[0;36m10000\u001b[0m\u001b[0;34m,\u001b[0m \u001b[0mrandom_state\u001b[0m\u001b[0;34m=\u001b[0m\u001b[0;36m42\u001b[0m\u001b[0;34m)\u001b[0m\u001b[0;34m[\u001b[0m\u001b[0;34m'dropoff_longitude'\u001b[0m\u001b[0;34m]\u001b[0m\u001b[0;34m.\u001b[0m\u001b[0mtolist\u001b[0m\u001b[0;34m(\u001b[0m\u001b[0;34m)\u001b[0m\u001b[0;34m\u001b[0m\u001b[0;34m\u001b[0m\u001b[0m\n\u001b[1;32m      3\u001b[0m \u001b[0;32mimport\u001b[0m \u001b[0mplotly\u001b[0m\u001b[0;34m.\u001b[0m\u001b[0mexpress\u001b[0m \u001b[0;32mas\u001b[0m \u001b[0mpx\u001b[0m\u001b[0;34m\u001b[0m\u001b[0;34m\u001b[0m\u001b[0m\n\u001b[1;32m      4\u001b[0m \u001b[0;34m\u001b[0m\u001b[0m\n\u001b[1;32m      5\u001b[0m \u001b[0;31m# Create a DataFrame with columns 'lat' and 'lon'\u001b[0m\u001b[0;34m\u001b[0m\u001b[0;34m\u001b[0m\u001b[0m\n",
            "\u001b[0;31mNameError\u001b[0m: name 'df' is not defined"
          ]
        }
      ],
      "source": [
        "lat=df.sample(n=10000, random_state=42)['dropoff_latitude'].tolist()\n",
        "lon=df.sample(n=10000, random_state=42)['dropoff_longitude'].tolist()\n",
        "import plotly.express as px\n",
        "\n",
        "# Create a DataFrame with columns 'lat' and 'lon'\n",
        "data = pd.DataFrame({\n",
        "    'lat': lat,\n",
        "    'lon': lon\n",
        "})\n",
        "\n",
        "# Create a density map\n",
        "fig = px.density_mapbox(data, lat='lat', lon='lon', radius=10, zoom=10,\n",
        "                        mapbox_style=\"carto-positron\", opacity=0.8)\n",
        "# , width=10, height=10\n",
        "fig.update_layout(title='Density of Drop Off Locations', width=1500, height=800)\n",
        "fig.show()"
      ]
    },
    {
      "cell_type": "code",
      "execution_count": null,
      "metadata": {
        "id": "HfdbRHbZKbRj"
      },
      "outputs": [],
      "source": [
        "data.to_csv('data.csv', index=False)"
      ]
    },
    {
      "cell_type": "code",
      "execution_count": null,
      "metadata": {
        "id": "aKT33rIMKWuw"
      },
      "outputs": [],
      "source": [
        "\"\"\"import plotly.express as px\n",
        "\n",
        "# Create a DataFrame with columns 'lat' and 'lon'\n",
        "data = pd.DataFrame({\n",
        "    'lat': lat[:1000000],\n",
        "    'lon': lon[:1000000]\n",
        "})\n",
        "\n",
        "# Create a density map\n",
        "fig = px.density_mapbox(data, lat='lat', lon='lon', radius=10, zoom=10,\n",
        "                        mapbox_style=\"carto-positron\", opacity=0.8)\n",
        "# , width=10, height=10\n",
        "fig.update_layout(title='Density of Pick Up Locations', width=1500, height=800)\n",
        "fig.show()\"\"\""
      ]
    },
    {
      "cell_type": "markdown",
      "metadata": {
        "id": "V2ekqF54NIY9"
      },
      "source": [
        "As plotiing location denstity plot off all location can be comutational expensive do taking 10,000 samples and ploting it."
      ]
    },
    {
      "cell_type": "code",
      "execution_count": null,
      "metadata": {
        "id": "rMjjjgIr0Vyv"
      },
      "outputs": [],
      "source": [
        "df=pd.read_csv('/content/drive/MyDrive/AlmaBetter/Captstone project/NYC Taxi Data.csv')\n",
        "df.head()"
      ]
    },
    {
      "cell_type": "markdown",
      "metadata": {
        "id": "DPnQFwLElm5j"
      },
      "source": [
        "<center> <img  src=\"https://ab-strapi-qa.s3.ap-south-1.amazonaws.com/Regression_NYC_Taxi_Trip_Time_Prediction_91a23744ad.png\" width=\"700\" height=\"500\"> </center>"
      ]
    },
    {
      "cell_type": "markdown",
      "metadata": {
        "id": "l1OZJs4M4QcA"
      },
      "source": [
        "## Data Cleaning"
      ]
    },
    {
      "cell_type": "code",
      "execution_count": null,
      "metadata": {
        "colab": {
          "base_uri": "https://localhost:8080/"
        },
        "id": "tKQ2fiyY0jk7",
        "outputId": "767b6f0a-d2f7-4e14-a679-626d923ca503"
      },
      "outputs": [
        {
          "name": "stdout",
          "output_type": "stream",
          "text": [
            "<class 'pandas.core.frame.DataFrame'>\n",
            "RangeIndex: 1458644 entries, 0 to 1458643\n",
            "Data columns (total 11 columns):\n",
            " #   Column              Non-Null Count    Dtype  \n",
            "---  ------              --------------    -----  \n",
            " 0   id                  1458644 non-null  object \n",
            " 1   vendor_id           1458644 non-null  int64  \n",
            " 2   pickup_datetime     1458644 non-null  object \n",
            " 3   dropoff_datetime    1458644 non-null  object \n",
            " 4   passenger_count     1458644 non-null  int64  \n",
            " 5   pickup_longitude    1458644 non-null  float64\n",
            " 6   pickup_latitude     1458644 non-null  float64\n",
            " 7   dropoff_longitude   1458644 non-null  float64\n",
            " 8   dropoff_latitude    1458644 non-null  float64\n",
            " 9   store_and_fwd_flag  1458644 non-null  object \n",
            " 10  trip_duration       1458644 non-null  int64  \n",
            "dtypes: float64(4), int64(3), object(4)\n",
            "memory usage: 122.4+ MB\n"
          ]
        }
      ],
      "source": [
        "df.info()"
      ]
    },
    {
      "cell_type": "code",
      "execution_count": null,
      "metadata": {
        "colab": {
          "base_uri": "https://localhost:8080/"
        },
        "id": "wiCN3Lsg1NVe",
        "outputId": "9fdfb6d2-c2a4-45ac-bf10-efade0771994"
      },
      "outputs": [
        {
          "data": {
            "text/plain": [
              "id                    0\n",
              "vendor_id             0\n",
              "pickup_datetime       0\n",
              "dropoff_datetime      0\n",
              "passenger_count       0\n",
              "pickup_longitude      0\n",
              "pickup_latitude       0\n",
              "dropoff_longitude     0\n",
              "dropoff_latitude      0\n",
              "store_and_fwd_flag    0\n",
              "trip_duration         0\n",
              "dtype: int64"
            ]
          },
          "execution_count": 5,
          "metadata": {},
          "output_type": "execute_result"
        }
      ],
      "source": [
        "df.isnull().sum()"
      ]
    },
    {
      "cell_type": "code",
      "execution_count": null,
      "metadata": {
        "colab": {
          "base_uri": "https://localhost:8080/"
        },
        "id": "hClXYO-hhi_Q",
        "outputId": "cc52fd59-d5f8-4e28-f522-a3745230a40d"
      },
      "outputs": [
        {
          "data": {
            "text/plain": [
              "0"
            ]
          },
          "execution_count": 6,
          "metadata": {},
          "output_type": "execute_result"
        }
      ],
      "source": [
        "df.duplicated().sum()"
      ]
    },
    {
      "cell_type": "code",
      "execution_count": null,
      "metadata": {
        "colab": {
          "base_uri": "https://localhost:8080/",
          "height": 394
        },
        "id": "3hE-mrqFh5oN",
        "outputId": "4398010c-91f8-4eef-ed65-f845a94bfa29"
      },
      "outputs": [
        {
          "data": {
            "text/html": [
              "\n",
              "  <div id=\"df-04b32de2-9220-4cee-b8f1-abad8b3e95d5\">\n",
              "    <div class=\"colab-df-container\">\n",
              "      <div>\n",
              "<style scoped>\n",
              "    .dataframe tbody tr th:only-of-type {\n",
              "        vertical-align: middle;\n",
              "    }\n",
              "\n",
              "    .dataframe tbody tr th {\n",
              "        vertical-align: top;\n",
              "    }\n",
              "\n",
              "    .dataframe thead th {\n",
              "        text-align: right;\n",
              "    }\n",
              "</style>\n",
              "<table border=\"1\" class=\"dataframe\">\n",
              "  <thead>\n",
              "    <tr style=\"text-align: right;\">\n",
              "      <th></th>\n",
              "      <th>count</th>\n",
              "      <th>unique</th>\n",
              "      <th>top</th>\n",
              "      <th>freq</th>\n",
              "      <th>mean</th>\n",
              "      <th>std</th>\n",
              "      <th>min</th>\n",
              "      <th>25%</th>\n",
              "      <th>50%</th>\n",
              "      <th>75%</th>\n",
              "      <th>max</th>\n",
              "    </tr>\n",
              "  </thead>\n",
              "  <tbody>\n",
              "    <tr>\n",
              "      <th>id</th>\n",
              "      <td>1458644</td>\n",
              "      <td>1458644</td>\n",
              "      <td>id2875421</td>\n",
              "      <td>1</td>\n",
              "      <td>NaN</td>\n",
              "      <td>NaN</td>\n",
              "      <td>NaN</td>\n",
              "      <td>NaN</td>\n",
              "      <td>NaN</td>\n",
              "      <td>NaN</td>\n",
              "      <td>NaN</td>\n",
              "    </tr>\n",
              "    <tr>\n",
              "      <th>vendor_id</th>\n",
              "      <td>1458644.0</td>\n",
              "      <td>NaN</td>\n",
              "      <td>NaN</td>\n",
              "      <td>NaN</td>\n",
              "      <td>1.53495</td>\n",
              "      <td>0.498777</td>\n",
              "      <td>1.0</td>\n",
              "      <td>1.0</td>\n",
              "      <td>2.0</td>\n",
              "      <td>2.0</td>\n",
              "      <td>2.0</td>\n",
              "    </tr>\n",
              "    <tr>\n",
              "      <th>pickup_datetime</th>\n",
              "      <td>1458644</td>\n",
              "      <td>1380222</td>\n",
              "      <td>2016-03-04 08:07:34</td>\n",
              "      <td>5</td>\n",
              "      <td>NaN</td>\n",
              "      <td>NaN</td>\n",
              "      <td>NaN</td>\n",
              "      <td>NaN</td>\n",
              "      <td>NaN</td>\n",
              "      <td>NaN</td>\n",
              "      <td>NaN</td>\n",
              "    </tr>\n",
              "    <tr>\n",
              "      <th>dropoff_datetime</th>\n",
              "      <td>1458644</td>\n",
              "      <td>1380377</td>\n",
              "      <td>2016-02-19 19:25:04</td>\n",
              "      <td>5</td>\n",
              "      <td>NaN</td>\n",
              "      <td>NaN</td>\n",
              "      <td>NaN</td>\n",
              "      <td>NaN</td>\n",
              "      <td>NaN</td>\n",
              "      <td>NaN</td>\n",
              "      <td>NaN</td>\n",
              "    </tr>\n",
              "    <tr>\n",
              "      <th>passenger_count</th>\n",
              "      <td>1458644.0</td>\n",
              "      <td>NaN</td>\n",
              "      <td>NaN</td>\n",
              "      <td>NaN</td>\n",
              "      <td>1.66453</td>\n",
              "      <td>1.314242</td>\n",
              "      <td>0.0</td>\n",
              "      <td>1.0</td>\n",
              "      <td>1.0</td>\n",
              "      <td>2.0</td>\n",
              "      <td>9.0</td>\n",
              "    </tr>\n",
              "    <tr>\n",
              "      <th>pickup_longitude</th>\n",
              "      <td>1458644.0</td>\n",
              "      <td>NaN</td>\n",
              "      <td>NaN</td>\n",
              "      <td>NaN</td>\n",
              "      <td>-73.973486</td>\n",
              "      <td>0.070902</td>\n",
              "      <td>-121.933342</td>\n",
              "      <td>-73.991867</td>\n",
              "      <td>-73.981743</td>\n",
              "      <td>-73.967331</td>\n",
              "      <td>-61.335529</td>\n",
              "    </tr>\n",
              "    <tr>\n",
              "      <th>pickup_latitude</th>\n",
              "      <td>1458644.0</td>\n",
              "      <td>NaN</td>\n",
              "      <td>NaN</td>\n",
              "      <td>NaN</td>\n",
              "      <td>40.750921</td>\n",
              "      <td>0.032881</td>\n",
              "      <td>34.359695</td>\n",
              "      <td>40.737347</td>\n",
              "      <td>40.754101</td>\n",
              "      <td>40.76836</td>\n",
              "      <td>51.881084</td>\n",
              "    </tr>\n",
              "    <tr>\n",
              "      <th>dropoff_longitude</th>\n",
              "      <td>1458644.0</td>\n",
              "      <td>NaN</td>\n",
              "      <td>NaN</td>\n",
              "      <td>NaN</td>\n",
              "      <td>-73.973416</td>\n",
              "      <td>0.070643</td>\n",
              "      <td>-121.933304</td>\n",
              "      <td>-73.991325</td>\n",
              "      <td>-73.979752</td>\n",
              "      <td>-73.963013</td>\n",
              "      <td>-61.335529</td>\n",
              "    </tr>\n",
              "    <tr>\n",
              "      <th>dropoff_latitude</th>\n",
              "      <td>1458644.0</td>\n",
              "      <td>NaN</td>\n",
              "      <td>NaN</td>\n",
              "      <td>NaN</td>\n",
              "      <td>40.7518</td>\n",
              "      <td>0.035891</td>\n",
              "      <td>32.181141</td>\n",
              "      <td>40.735885</td>\n",
              "      <td>40.754524</td>\n",
              "      <td>40.76981</td>\n",
              "      <td>43.921028</td>\n",
              "    </tr>\n",
              "    <tr>\n",
              "      <th>store_and_fwd_flag</th>\n",
              "      <td>1458644</td>\n",
              "      <td>2</td>\n",
              "      <td>N</td>\n",
              "      <td>1450599</td>\n",
              "      <td>NaN</td>\n",
              "      <td>NaN</td>\n",
              "      <td>NaN</td>\n",
              "      <td>NaN</td>\n",
              "      <td>NaN</td>\n",
              "      <td>NaN</td>\n",
              "      <td>NaN</td>\n",
              "    </tr>\n",
              "    <tr>\n",
              "      <th>trip_duration</th>\n",
              "      <td>1458644.0</td>\n",
              "      <td>NaN</td>\n",
              "      <td>NaN</td>\n",
              "      <td>NaN</td>\n",
              "      <td>959.492273</td>\n",
              "      <td>5237.431724</td>\n",
              "      <td>1.0</td>\n",
              "      <td>397.0</td>\n",
              "      <td>662.0</td>\n",
              "      <td>1075.0</td>\n",
              "      <td>3526282.0</td>\n",
              "    </tr>\n",
              "  </tbody>\n",
              "</table>\n",
              "</div>\n",
              "      <button class=\"colab-df-convert\" onclick=\"convertToInteractive('df-04b32de2-9220-4cee-b8f1-abad8b3e95d5')\"\n",
              "              title=\"Convert this dataframe to an interactive table.\"\n",
              "              style=\"display:none;\">\n",
              "        \n",
              "  <svg xmlns=\"http://www.w3.org/2000/svg\" height=\"24px\"viewBox=\"0 0 24 24\"\n",
              "       width=\"24px\">\n",
              "    <path d=\"M0 0h24v24H0V0z\" fill=\"none\"/>\n",
              "    <path d=\"M18.56 5.44l.94 2.06.94-2.06 2.06-.94-2.06-.94-.94-2.06-.94 2.06-2.06.94zm-11 1L8.5 8.5l.94-2.06 2.06-.94-2.06-.94L8.5 2.5l-.94 2.06-2.06.94zm10 10l.94 2.06.94-2.06 2.06-.94-2.06-.94-.94-2.06-.94 2.06-2.06.94z\"/><path d=\"M17.41 7.96l-1.37-1.37c-.4-.4-.92-.59-1.43-.59-.52 0-1.04.2-1.43.59L10.3 9.45l-7.72 7.72c-.78.78-.78 2.05 0 2.83L4 21.41c.39.39.9.59 1.41.59.51 0 1.02-.2 1.41-.59l7.78-7.78 2.81-2.81c.8-.78.8-2.07 0-2.86zM5.41 20L4 18.59l7.72-7.72 1.47 1.35L5.41 20z\"/>\n",
              "  </svg>\n",
              "      </button>\n",
              "      \n",
              "  <style>\n",
              "    .colab-df-container {\n",
              "      display:flex;\n",
              "      flex-wrap:wrap;\n",
              "      gap: 12px;\n",
              "    }\n",
              "\n",
              "    .colab-df-convert {\n",
              "      background-color: #E8F0FE;\n",
              "      border: none;\n",
              "      border-radius: 50%;\n",
              "      cursor: pointer;\n",
              "      display: none;\n",
              "      fill: #1967D2;\n",
              "      height: 32px;\n",
              "      padding: 0 0 0 0;\n",
              "      width: 32px;\n",
              "    }\n",
              "\n",
              "    .colab-df-convert:hover {\n",
              "      background-color: #E2EBFA;\n",
              "      box-shadow: 0px 1px 2px rgba(60, 64, 67, 0.3), 0px 1px 3px 1px rgba(60, 64, 67, 0.15);\n",
              "      fill: #174EA6;\n",
              "    }\n",
              "\n",
              "    [theme=dark] .colab-df-convert {\n",
              "      background-color: #3B4455;\n",
              "      fill: #D2E3FC;\n",
              "    }\n",
              "\n",
              "    [theme=dark] .colab-df-convert:hover {\n",
              "      background-color: #434B5C;\n",
              "      box-shadow: 0px 1px 3px 1px rgba(0, 0, 0, 0.15);\n",
              "      filter: drop-shadow(0px 1px 2px rgba(0, 0, 0, 0.3));\n",
              "      fill: #FFFFFF;\n",
              "    }\n",
              "  </style>\n",
              "\n",
              "      <script>\n",
              "        const buttonEl =\n",
              "          document.querySelector('#df-04b32de2-9220-4cee-b8f1-abad8b3e95d5 button.colab-df-convert');\n",
              "        buttonEl.style.display =\n",
              "          google.colab.kernel.accessAllowed ? 'block' : 'none';\n",
              "\n",
              "        async function convertToInteractive(key) {\n",
              "          const element = document.querySelector('#df-04b32de2-9220-4cee-b8f1-abad8b3e95d5');\n",
              "          const dataTable =\n",
              "            await google.colab.kernel.invokeFunction('convertToInteractive',\n",
              "                                                     [key], {});\n",
              "          if (!dataTable) return;\n",
              "\n",
              "          const docLinkHtml = 'Like what you see? Visit the ' +\n",
              "            '<a target=\"_blank\" href=https://colab.research.google.com/notebooks/data_table.ipynb>data table notebook</a>'\n",
              "            + ' to learn more about interactive tables.';\n",
              "          element.innerHTML = '';\n",
              "          dataTable['output_type'] = 'display_data';\n",
              "          await google.colab.output.renderOutput(dataTable, element);\n",
              "          const docLink = document.createElement('div');\n",
              "          docLink.innerHTML = docLinkHtml;\n",
              "          element.appendChild(docLink);\n",
              "        }\n",
              "      </script>\n",
              "    </div>\n",
              "  </div>\n",
              "  "
            ],
            "text/plain": [
              "                        count   unique                  top     freq  \\\n",
              "id                    1458644  1458644            id2875421        1   \n",
              "vendor_id           1458644.0      NaN                  NaN      NaN   \n",
              "pickup_datetime       1458644  1380222  2016-03-04 08:07:34        5   \n",
              "dropoff_datetime      1458644  1380377  2016-02-19 19:25:04        5   \n",
              "passenger_count     1458644.0      NaN                  NaN      NaN   \n",
              "pickup_longitude    1458644.0      NaN                  NaN      NaN   \n",
              "pickup_latitude     1458644.0      NaN                  NaN      NaN   \n",
              "dropoff_longitude   1458644.0      NaN                  NaN      NaN   \n",
              "dropoff_latitude    1458644.0      NaN                  NaN      NaN   \n",
              "store_and_fwd_flag    1458644        2                    N  1450599   \n",
              "trip_duration       1458644.0      NaN                  NaN      NaN   \n",
              "\n",
              "                          mean          std         min        25%        50%  \\\n",
              "id                         NaN          NaN         NaN        NaN        NaN   \n",
              "vendor_id              1.53495     0.498777         1.0        1.0        2.0   \n",
              "pickup_datetime            NaN          NaN         NaN        NaN        NaN   \n",
              "dropoff_datetime           NaN          NaN         NaN        NaN        NaN   \n",
              "passenger_count        1.66453     1.314242         0.0        1.0        1.0   \n",
              "pickup_longitude    -73.973486     0.070902 -121.933342 -73.991867 -73.981743   \n",
              "pickup_latitude      40.750921     0.032881   34.359695  40.737347  40.754101   \n",
              "dropoff_longitude   -73.973416     0.070643 -121.933304 -73.991325 -73.979752   \n",
              "dropoff_latitude       40.7518     0.035891   32.181141  40.735885  40.754524   \n",
              "store_and_fwd_flag         NaN          NaN         NaN        NaN        NaN   \n",
              "trip_duration       959.492273  5237.431724         1.0      397.0      662.0   \n",
              "\n",
              "                          75%        max  \n",
              "id                        NaN        NaN  \n",
              "vendor_id                 2.0        2.0  \n",
              "pickup_datetime           NaN        NaN  \n",
              "dropoff_datetime          NaN        NaN  \n",
              "passenger_count           2.0        9.0  \n",
              "pickup_longitude   -73.967331 -61.335529  \n",
              "pickup_latitude      40.76836  51.881084  \n",
              "dropoff_longitude  -73.963013 -61.335529  \n",
              "dropoff_latitude     40.76981  43.921028  \n",
              "store_and_fwd_flag        NaN        NaN  \n",
              "trip_duration          1075.0  3526282.0  "
            ]
          },
          "execution_count": 7,
          "metadata": {},
          "output_type": "execute_result"
        }
      ],
      "source": [
        "df.describe(include='all').T"
      ]
    },
    {
      "cell_type": "code",
      "execution_count": null,
      "metadata": {
        "colab": {
          "base_uri": "https://localhost:8080/"
        },
        "id": "O6RS1hZuAF89",
        "outputId": "106a737f-951a-42aa-9cec-977e1b9ae93e"
      },
      "outputs": [
        {
          "data": {
            "text/plain": [
              "array([2, 1])"
            ]
          },
          "execution_count": 8,
          "metadata": {},
          "output_type": "execute_result"
        }
      ],
      "source": [
        "df['vendor_id'].unique()"
      ]
    },
    {
      "cell_type": "markdown",
      "metadata": {
        "id": "e0ivuEMVASY8"
      },
      "source": [
        "There are just two venders"
      ]
    },
    {
      "cell_type": "code",
      "execution_count": null,
      "metadata": {
        "colab": {
          "base_uri": "https://localhost:8080/"
        },
        "id": "H0XPA_S1AW92",
        "outputId": "2bf1924d-b310-4be6-d58e-442363fa44e7"
      },
      "outputs": [
        {
          "data": {
            "text/plain": [
              "array([1, 6, 4, 2, 3, 5, 0, 7, 9, 8])"
            ]
          },
          "execution_count": 9,
          "metadata": {},
          "output_type": "execute_result"
        }
      ],
      "source": [
        "df['passenger_count'].unique()"
      ]
    },
    {
      "cell_type": "markdown",
      "metadata": {
        "id": "oY33p68yAjo9"
      },
      "source": [
        "0 passenger count seems irregularity in data"
      ]
    },
    {
      "cell_type": "code",
      "execution_count": null,
      "metadata": {
        "colab": {
          "base_uri": "https://localhost:8080/"
        },
        "id": "v8ITzoXcAxyW",
        "outputId": "b0fc200e-64e0-4c66-a9ba-c75321ace6fb"
      },
      "outputs": [
        {
          "data": {
            "text/plain": [
              "60"
            ]
          },
          "execution_count": 10,
          "metadata": {},
          "output_type": "execute_result"
        }
      ],
      "source": [
        "(df['passenger_count']==0).sum()"
      ]
    },
    {
      "cell_type": "markdown",
      "metadata": {
        "id": "2yQWh2V5465G"
      },
      "source": [
        "## EDA"
      ]
    },
    {
      "cell_type": "markdown",
      "metadata": {
        "id": "ykrjgP5p5056"
      },
      "source": [
        "\n",
        "\n",
        "*   daytime vs taxi service frequency  \n",
        "*   List item\n",
        "\n",
        "\n"
      ]
    },
    {
      "cell_type": "markdown",
      "metadata": {
        "id": "TmsoIGiunTeS"
      },
      "source": [
        "### Univariate Analysis"
      ]
    },
    {
      "cell_type": "code",
      "execution_count": null,
      "metadata": {
        "colab": {
          "base_uri": "https://localhost:8080/"
        },
        "id": "eUvVumHV46Yj",
        "outputId": "4c8bf4d4-93af-4539-9263-0f5fdbbff5ce"
      },
      "outputs": [
        {
          "data": {
            "text/plain": [
              "0         2016-03-14 17:24:55\n",
              "1         2016-06-12 00:43:35\n",
              "2         2016-01-19 11:35:24\n",
              "3         2016-04-06 19:32:31\n",
              "4         2016-03-26 13:30:55\n",
              "                  ...        \n",
              "1458639   2016-04-08 13:31:04\n",
              "1458640   2016-01-10 07:35:15\n",
              "1458641   2016-04-22 06:57:41\n",
              "1458642   2016-01-05 15:56:26\n",
              "1458643   2016-04-05 14:44:25\n",
              "Name: pickup_datetime, Length: 1458644, dtype: datetime64[ns]"
            ]
          },
          "execution_count": 11,
          "metadata": {},
          "output_type": "execute_result"
        }
      ],
      "source": [
        "pd.to_datetime(df['pickup_datetime'])"
      ]
    },
    {
      "cell_type": "markdown",
      "metadata": {
        "id": "FQnXnsWWlWnU"
      },
      "source": [
        "vender_id"
      ]
    },
    {
      "cell_type": "code",
      "execution_count": null,
      "metadata": {
        "colab": {
          "base_uri": "https://localhost:8080/",
          "height": 297
        },
        "id": "8LLDF1EDlrhs",
        "outputId": "d3787a53-7037-4921-fcb8-a4a6598614a9"
      },
      "outputs": [
        {
          "data": {
            "text/plain": [
              "<AxesSubplot:xlabel='vendor_id', ylabel='count'>"
            ]
          },
          "execution_count": 12,
          "metadata": {},
          "output_type": "execute_result"
        },
        {
          "data": {
            "image/png": "[encoded data removed]",
            "text/plain": [
              "<Figure size 432x288 with 1 Axes>"
            ]
          },
          "metadata": {},
          "output_type": "display_data"
        }
      ],
      "source": [
        "sns.countplot(x=df[\"vendor_id\"])"
      ]
    },
    {
      "cell_type": "markdown",
      "metadata": {
        "id": "AhWB8gSsmwVF"
      },
      "source": [
        "Passenger count"
      ]
    },
    {
      "cell_type": "code",
      "execution_count": null,
      "metadata": {
        "colab": {
          "base_uri": "https://localhost:8080/",
          "height": 308
        },
        "id": "0u-PmzFpmo6Z",
        "outputId": "a6d5911e-8a77-46b4-ccca-ff81ee8d8481"
      },
      "outputs": [
        {
          "data": {
            "text/plain": [
              "<AxesSubplot:xlabel='passenger_count', ylabel='count'>"
            ]
          },
          "execution_count": 13,
          "metadata": {},
          "output_type": "execute_result"
        },
        {
          "data": {
            "image/png": "[encoded data removed]",
            "text/plain": [
              "<Figure size 432x288 with 1 Axes>"
            ]
          },
          "metadata": {},
          "output_type": "display_data"
        }
      ],
      "source": [
        "sns.countplot(x=df[\"passenger_count\"])"
      ]
    },
    {
      "cell_type": "markdown",
      "metadata": {
        "id": "SJHJhmVrnBP-"
      },
      "source": [
        "store_and_fwd_flag"
      ]
    },
    {
      "cell_type": "code",
      "execution_count": null,
      "metadata": {
        "colab": {
          "base_uri": "https://localhost:8080/",
          "height": 308
        },
        "id": "t4MXYwRrm7VH",
        "outputId": "22888838-2fbe-4634-91e4-834aba752dc1"
      },
      "outputs": [
        {
          "data": {
            "text/plain": [
              "<AxesSubplot:xlabel='store_and_fwd_flag', ylabel='count'>"
            ]
          },
          "execution_count": 14,
          "metadata": {},
          "output_type": "execute_result"
        },
        {
          "data": {
            "image/png": "[encoded data removed]",
            "text/plain": [
              "<Figure size 432x288 with 1 Axes>"
            ]
          },
          "metadata": {},
          "output_type": "display_data"
        }
      ],
      "source": [
        "sns.countplot(x=df[\"store_and_fwd_flag\"])"
      ]
    },
    {
      "cell_type": "markdown",
      "metadata": {
        "id": "56vncHX3nPKW"
      },
      "source": [
        "trip_duration"
      ]
    },
    {
      "cell_type": "markdown",
      "metadata": {
        "id": "LWC-GAZlo1hs"
      },
      "source": [
        "gurgaon\n",
        "sec53\n",
        "sec30\n",
        "3rd 19thjune\n",
        "Mansi"
      ]
    },
    {
      "cell_type": "code",
      "execution_count": null,
      "metadata": {
        "colab": {
          "base_uri": "https://localhost:8080/"
        },
        "id": "X9xNkBHyt7wN",
        "outputId": "61d389b1-565a-44a1-8825-426b26674079"
      },
      "outputs": [
        {
          "data": {
            "text/plain": [
              "count    1.458644e+06\n",
              "mean     9.594923e+02\n",
              "std      5.237432e+03\n",
              "min      1.000000e+00\n",
              "25%      3.970000e+02\n",
              "50%      6.620000e+02\n",
              "75%      1.075000e+03\n",
              "max      3.526282e+06\n",
              "Name: trip_duration, dtype: float64"
            ]
          },
          "execution_count": 15,
          "metadata": {},
          "output_type": "execute_result"
        }
      ],
      "source": [
        "df['trip_duration'].describe()"
      ]
    },
    {
      "cell_type": "code",
      "execution_count": null,
      "metadata": {
        "colab": {
          "base_uri": "https://localhost:8080/"
        },
        "id": "QTqKbxenwlRH",
        "outputId": "8069e34b-1fa4-44b2-a8c0-a2340393b757"
      },
      "outputs": [
        {
          "data": {
            "text/plain": [
              "979.5227777777778"
            ]
          },
          "execution_count": 16,
          "metadata": {},
          "output_type": "execute_result"
        }
      ],
      "source": [
        "max(df['trip_duration'])/3600"
      ]
    },
    {
      "cell_type": "code",
      "execution_count": null,
      "metadata": {
        "colab": {
          "base_uri": "https://localhost:8080/"
        },
        "id": "16K4qFnDwxNV",
        "outputId": "151b98c9-721a-4e8d-9fce-f3de2bb26003"
      },
      "outputs": [
        {
          "data": {
            "text/plain": [
              "17.916666666666668"
            ]
          },
          "execution_count": 17,
          "metadata": {},
          "output_type": "execute_result"
        }
      ],
      "source": [
        "1075/60"
      ]
    },
    {
      "cell_type": "code",
      "execution_count": null,
      "metadata": {
        "colab": {
          "base_uri": "https://localhost:8080/"
        },
        "id": "9BMJA36pw_Yx",
        "outputId": "fa37d926-3ade-4de1-8a11-44f7eacc9b0b"
      },
      "outputs": [
        {
          "data": {
            "text/plain": [
              "2.937195263888894"
            ]
          },
          "execution_count": 18,
          "metadata": {},
          "output_type": "execute_result"
        }
      ],
      "source": [
        "df['trip_duration'].quantile(0.99855)/3600"
      ]
    },
    {
      "cell_type": "code",
      "execution_count": null,
      "metadata": {
        "colab": {
          "base_uri": "https://localhost:8080/"
        },
        "id": "roz_1a0Gxvl0",
        "outputId": "82d29d25-d5fa-4881-bedc-7d972ada5b10"
      },
      "outputs": [
        {
          "data": {
            "text/plain": [
              "2253"
            ]
          },
          "execution_count": 19,
          "metadata": {},
          "output_type": "execute_result"
        }
      ],
      "source": [
        "(df['trip_duration']/3600>2).sum()"
      ]
    },
    {
      "cell_type": "code",
      "execution_count": null,
      "metadata": {
        "id": "ioH0KwXOyTMu"
      },
      "outputs": [],
      "source": [
        " df.drop(df[df.trip_duration/3600>2].index, inplace=True)"
      ]
    },
    {
      "cell_type": "code",
      "execution_count": null,
      "metadata": {
        "colab": {
          "base_uri": "https://localhost:8080/",
          "height": 283
        },
        "id": "MAVi-u6bxUAc",
        "outputId": "5feeb968-8725-42d5-df41-db3050031969"
      },
      "outputs": [
        {
          "data": {
            "text/plain": [
              "<Axes: >"
            ]
          },
          "execution_count": 10,
          "metadata": {},
          "output_type": "execute_result"
        },
        {
          "data": {
            "image/png": "[encoded data removed]",
            "text/plain": [
              "<Figure size 432x288 with 1 Axes>"
            ]
          },
          "metadata": {},
          "output_type": "display_data"
        }
      ],
      "source": [
        "df['trip_duration'].plot(kind='box') "
      ]
    },
    {
      "cell_type": "code",
      "execution_count": null,
      "metadata": {
        "id": "GFxGxu5u2WqO"
      },
      "outputs": [],
      "source": [
        "IQR=df['trip_duration'].quantile(0.75)-df['trip_duration'].quantile(0.75)\n",
        "UL=df['trip_duration'].quantile(0.75)+IQR*1.5\n",
        "df.drop(df[df.trip_duration>UL].index, inplace=True)"
      ]
    },
    {
      "cell_type": "code",
      "execution_count": null,
      "metadata": {
        "colab": {
          "base_uri": "https://localhost:8080/"
        },
        "id": "yYXlvbzv223P",
        "outputId": "805eb39a-f1b7-4d92-e469-4bcb8ff7f422"
      },
      "outputs": [
        {
          "data": {
            "text/plain": [
              "(1094153, 10)"
            ]
          },
          "execution_count": 11,
          "metadata": {},
          "output_type": "execute_result"
        }
      ],
      "source": [
        "df.shape"
      ]
    },
    {
      "cell_type": "code",
      "execution_count": null,
      "metadata": {
        "colab": {
          "base_uri": "https://localhost:8080/"
        },
        "id": "7yE9Oyom3Y-v",
        "outputId": "0e4617a3-8b2b-4c7a-dcab-43ffb6259630"
      },
      "outputs": [
        {
          "data": {
            "text/plain": [
              "Index(['id', 'vendor_id', 'pickup_datetime', 'dropoff_datetime',\n",
              "       'passenger_count', 'pickup_longitude', 'pickup_latitude',\n",
              "       'dropoff_longitude', 'dropoff_latitude', 'store_and_fwd_flag',\n",
              "       'trip_duration'],\n",
              "      dtype='object')"
            ]
          },
          "execution_count": 24,
          "metadata": {},
          "output_type": "execute_result"
        }
      ],
      "source": [
        "df.columns"
      ]
    },
    {
      "cell_type": "code",
      "execution_count": null,
      "metadata": {
        "id": "GJFKuRUZ3bAq"
      },
      "outputs": [],
      "source": [
        "df['pickup_datetime'] = pd.to_datetime(df['pickup_datetime'])"
      ]
    },
    {
      "cell_type": "code",
      "execution_count": null,
      "metadata": {
        "id": "AMAh7Epf3frX"
      },
      "outputs": [],
      "source": [
        "df['dropoff_datetime'] = pd.to_datetime(df['dropoff_datetime'])"
      ]
    },
    {
      "cell_type": "code",
      "execution_count": null,
      "metadata": {
        "colab": {
          "base_uri": "https://localhost:8080/"
        },
        "id": "IkWQuIW53nsE",
        "outputId": "8c267700-8f72-49e2-e64a-bf67e765253a"
      },
      "outputs": [
        {
          "data": {
            "text/plain": [
              "array([2016])"
            ]
          },
          "execution_count": 17,
          "metadata": {},
          "output_type": "execute_result"
        }
      ],
      "source": [
        "df['dropoff_datetime'].dt.year.unique()"
      ]
    },
    {
      "cell_type": "code",
      "execution_count": null,
      "metadata": {
        "colab": {
          "base_uri": "https://localhost:8080/",
          "height": 315
        },
        "id": "xWSPnJA26RTR",
        "outputId": "f0f152e0-c9a9-4166-ee05-d25ef3f9dfc4"
      },
      "outputs": [
        {
          "name": "stdout",
          "output_type": "stream",
          "text": [
            "[3 6 4 1 5 2 7]\n"
          ]
        },
        {
          "data": {
            "text/plain": [
              "<AxesSubplot:xlabel='dropoff_datetime', ylabel='count'>"
            ]
          },
          "execution_count": 31,
          "metadata": {},
          "output_type": "execute_result"
        },
        {
          "data": {
            "image/png": "[encoded data removed]",
            "text/plain": [
              "<Figure size 432x288 with 1 Axes>"
            ]
          },
          "metadata": {},
          "output_type": "display_data"
        }
      ],
      "source": [
        "print(df['dropoff_datetime'].dt.month.unique())\n",
        "sns.countplot(x=df['dropoff_datetime'].dt.month)"
      ]
    },
    {
      "cell_type": "code",
      "execution_count": null,
      "metadata": {
        "colab": {
          "base_uri": "https://localhost:8080/",
          "height": 280
        },
        "id": "KCm1MJYP80iu",
        "outputId": "9ae9b6f3-0290-4f9f-d5cb-c97fd96fbb5a"
      },
      "outputs": [
        {
          "data": {
            "image/png": "[encoded data removed]",
            "text/plain": [
              "<Figure size 432x288 with 1 Axes>"
            ]
          },
          "metadata": {},
          "output_type": "display_data"
        }
      ],
      "source": [
        "ax=sns.countplot(x=df['dropoff_datetime'].dt.month)\n",
        "ax.set_xticks([0, 1, 2, 3, 4, 5, 6])  # set 4 tick locations\n",
        "ax.set_xticklabels([\"Jan\", \"Feb\", \"Mar\", \"Apr\", \"May\", \"Jun\", \"Jul\"])\n",
        "plt.show()"
      ]
    },
    {
      "cell_type": "code",
      "execution_count": null,
      "metadata": {
        "id": "DolHlz2u8fPK"
      },
      "outputs": [],
      "source": [
        "import seaborn as sns\n",
        "import matplotlib.pyplot as plt\n",
        "\n",
        "# Load example data\n",
        "tips = sns.load_dataset(\"tips\")\n",
        "\n",
        "# Create countplot\n",
        "ax = sns.countplot(x=\"day\", data=tips)\n",
        "\n",
        "# Set x-label and x-tick labels\n",
        "ax.set_xlabel(\"Day of the Week\")\n",
        "ax.set_xticks([0, 1, 2, 3])  # set 4 tick locations\n",
        "ax.set_xticklabels([\"Thu\", \"Fri\", \"Sat\", \"Sun\"])\n",
        "\n",
        "# Show plot\n",
        "plt.show()"
      ]
    },
    {
      "cell_type": "code",
      "execution_count": null,
      "metadata": {
        "colab": {
          "base_uri": "https://localhost:8080/",
          "height": 297
        },
        "id": "QYQgh1Nd9lGb",
        "outputId": "462739c9-241a-419a-861c-1d08814d63e2"
      },
      "outputs": [
        {
          "data": {
            "text/plain": [
              "<AxesSubplot:xlabel='dropoff_datetime', ylabel='count'>"
            ]
          },
          "execution_count": 37,
          "metadata": {},
          "output_type": "execute_result"
        },
        {
          "data": {
            "image/png": "[encoded data removed]",
            "text/plain": [
              "<Figure size 432x288 with 1 Axes>"
            ]
          },
          "metadata": {},
          "output_type": "display_data"
        }
      ],
      "source": [
        "sns.countplot(x=df['dropoff_datetime'].dt.hour, )"
      ]
    },
    {
      "cell_type": "markdown",
      "metadata": {
        "id": "p_5Eqit-ClRF"
      },
      "source": [
        "1. mostly people travel in night 6pm to 12pm.\n",
        "2. Trafic is just constant from 9am to 5pm. It may be because of office hours."
      ]
    },
    {
      "cell_type": "code",
      "execution_count": null,
      "metadata": {
        "colab": {
          "base_uri": "https://localhost:8080/"
        },
        "id": "uk5dyVenBEWu",
        "outputId": "2fbf7f3c-6373-4eda-dde8-4c31ecf3b61d"
      },
      "outputs": [
        {
          "data": {
            "text/plain": [
              "array([17,  0, 19, 13, 22, 23, 21, 15,  9,  2, 12,  3,  7,  1,  8, 14, 16,\n",
              "       11, 20, 18, 10,  5,  6,  4])"
            ]
          },
          "execution_count": 41,
          "metadata": {},
          "output_type": "execute_result"
        }
      ],
      "source": [
        "df['dropoff_datetime'].dt.hour.unique()"
      ]
    },
    {
      "cell_type": "code",
      "execution_count": null,
      "metadata": {
        "colab": {
          "base_uri": "https://localhost:8080/",
          "height": 386
        },
        "id": "AfJHLTb_AgKm",
        "outputId": "be3da326-6adb-4719-933a-56fdfac56471"
      },
      "outputs": [
        {
          "data": {
            "text/plain": [
              "<seaborn.axisgrid.FacetGrid at 0x7fd80cdc7400>"
            ]
          },
          "execution_count": 40,
          "metadata": {},
          "output_type": "execute_result"
        },
        {
          "data": {
            "image/png": "[encoded data removed]",
            "text/plain": [
              "<Figure size 360x360 with 1 Axes>"
            ]
          },
          "metadata": {},
          "output_type": "display_data"
        }
      ],
      "source": [
        "sns.displot(df['dropoff_datetime'].dt.hour,kind='kde')"
      ]
    },
    {
      "cell_type": "markdown",
      "metadata": {
        "id": "vGsgddcn5pJ8"
      },
      "source": [
        "Datetime \n",
        "1. This data is for year 2016 olny.\n",
        "2. It has just month from Jan to Jul"
      ]
    },
    {
      "cell_type": "code",
      "execution_count": null,
      "metadata": {
        "id": "8zb4FvzuaViE"
      },
      "outputs": [],
      "source": []
    },
    {
      "cell_type": "markdown",
      "metadata": {
        "id": "F8XCySb_g5r9"
      },
      "source": [
        "## Feature Enginneering"
      ]
    },
    {
      "cell_type": "code",
      "execution_count": null,
      "metadata": {
        "id": "bAU330QWbaqX"
      },
      "outputs": [],
      "source": [
        "df=pd.read_csv('/content/drive/MyDrive/AlmaBetter/Captstone project/NYC Taxi Data.csv')\n",
        "\n",
        "df['pickup_datetime'] = pd.to_datetime(df['pickup_datetime'])\n",
        "df['dropoff_datetime'] = pd.to_datetime(df['dropoff_datetime'])\n",
        "df['store_and_fwd_flag']=df['store_and_fwd_flag'].apply(lambda x: 0 if x=='N' else 0)\n",
        "\n",
        "# creating  hour and month column\n",
        "df['hour']=df['pickup_datetime'].dt.hour\n",
        "df['month']=df['pickup_datetime'].dt.month\n",
        "\n",
        "#Droping unnecessary columns\n",
        "df.drop(['dropoff_datetime','pickup_datetime','id'], axis=1, inplace=True)"
      ]
    },
    {
      "cell_type": "code",
      "execution_count": null,
      "metadata": {
        "colab": {
          "base_uri": "https://localhost:8080/"
        },
        "id": "82pOS5wjNsut",
        "outputId": "6c0fde4f-453f-4fd8-dd8d-38e449af904b"
      },
      "outputs": [
        {
          "data": {
            "text/plain": [
              "(1458644, 10)"
            ]
          },
          "execution_count": 7,
          "metadata": {},
          "output_type": "execute_result"
        }
      ],
      "source": [
        "df.shape"
      ]
    },
    {
      "cell_type": "code",
      "execution_count": null,
      "metadata": {
        "colab": {
          "base_uri": "https://localhost:8080/",
          "height": 112
        },
        "id": "Z-GyZrIebkP1",
        "outputId": "0f43384f-080a-4521-fffd-7b7721b5370e"
      },
      "outputs": [
        {
          "data": {
            "text/html": [
              "\n",
              "  <div id=\"df-f2e4c03f-5111-40fc-ab28-01f5b6dddd4e\">\n",
              "    <div class=\"colab-df-container\">\n",
              "      <div>\n",
              "<style scoped>\n",
              "    .dataframe tbody tr th:only-of-type {\n",
              "        vertical-align: middle;\n",
              "    }\n",
              "\n",
              "    .dataframe tbody tr th {\n",
              "        vertical-align: top;\n",
              "    }\n",
              "\n",
              "    .dataframe thead th {\n",
              "        text-align: right;\n",
              "    }\n",
              "</style>\n",
              "<table border=\"1\" class=\"dataframe\">\n",
              "  <thead>\n",
              "    <tr style=\"text-align: right;\">\n",
              "      <th></th>\n",
              "      <th>vendor_id</th>\n",
              "      <th>passenger_count</th>\n",
              "      <th>pickup_longitude</th>\n",
              "      <th>pickup_latitude</th>\n",
              "      <th>dropoff_longitude</th>\n",
              "      <th>dropoff_latitude</th>\n",
              "      <th>store_and_fwd_flag</th>\n",
              "      <th>trip_duration</th>\n",
              "      <th>hour</th>\n",
              "      <th>month</th>\n",
              "    </tr>\n",
              "  </thead>\n",
              "  <tbody>\n",
              "    <tr>\n",
              "      <th>0</th>\n",
              "      <td>2</td>\n",
              "      <td>1</td>\n",
              "      <td>-73.982155</td>\n",
              "      <td>40.767937</td>\n",
              "      <td>-73.964630</td>\n",
              "      <td>40.765602</td>\n",
              "      <td>0</td>\n",
              "      <td>455</td>\n",
              "      <td>17</td>\n",
              "      <td>3</td>\n",
              "    </tr>\n",
              "    <tr>\n",
              "      <th>1</th>\n",
              "      <td>1</td>\n",
              "      <td>1</td>\n",
              "      <td>-73.980415</td>\n",
              "      <td>40.738564</td>\n",
              "      <td>-73.999481</td>\n",
              "      <td>40.731152</td>\n",
              "      <td>0</td>\n",
              "      <td>663</td>\n",
              "      <td>0</td>\n",
              "      <td>6</td>\n",
              "    </tr>\n",
              "  </tbody>\n",
              "</table>\n",
              "</div>\n",
              "      <button class=\"colab-df-convert\" onclick=\"convertToInteractive('df-f2e4c03f-5111-40fc-ab28-01f5b6dddd4e')\"\n",
              "              title=\"Convert this dataframe to an interactive table.\"\n",
              "              style=\"display:none;\">\n",
              "        \n",
              "  <svg xmlns=\"http://www.w3.org/2000/svg\" height=\"24px\"viewBox=\"0 0 24 24\"\n",
              "       width=\"24px\">\n",
              "    <path d=\"M0 0h24v24H0V0z\" fill=\"none\"/>\n",
              "    <path d=\"M18.56 5.44l.94 2.06.94-2.06 2.06-.94-2.06-.94-.94-2.06-.94 2.06-2.06.94zm-11 1L8.5 8.5l.94-2.06 2.06-.94-2.06-.94L8.5 2.5l-.94 2.06-2.06.94zm10 10l.94 2.06.94-2.06 2.06-.94-2.06-.94-.94-2.06-.94 2.06-2.06.94z\"/><path d=\"M17.41 7.96l-1.37-1.37c-.4-.4-.92-.59-1.43-.59-.52 0-1.04.2-1.43.59L10.3 9.45l-7.72 7.72c-.78.78-.78 2.05 0 2.83L4 21.41c.39.39.9.59 1.41.59.51 0 1.02-.2 1.41-.59l7.78-7.78 2.81-2.81c.8-.78.8-2.07 0-2.86zM5.41 20L4 18.59l7.72-7.72 1.47 1.35L5.41 20z\"/>\n",
              "  </svg>\n",
              "      </button>\n",
              "      \n",
              "  <style>\n",
              "    .colab-df-container {\n",
              "      display:flex;\n",
              "      flex-wrap:wrap;\n",
              "      gap: 12px;\n",
              "    }\n",
              "\n",
              "    .colab-df-convert {\n",
              "      background-color: #E8F0FE;\n",
              "      border: none;\n",
              "      border-radius: 50%;\n",
              "      cursor: pointer;\n",
              "      display: none;\n",
              "      fill: #1967D2;\n",
              "      height: 32px;\n",
              "      padding: 0 0 0 0;\n",
              "      width: 32px;\n",
              "    }\n",
              "\n",
              "    .colab-df-convert:hover {\n",
              "      background-color: #E2EBFA;\n",
              "      box-shadow: 0px 1px 2px rgba(60, 64, 67, 0.3), 0px 1px 3px 1px rgba(60, 64, 67, 0.15);\n",
              "      fill: #174EA6;\n",
              "    }\n",
              "\n",
              "    [theme=dark] .colab-df-convert {\n",
              "      background-color: #3B4455;\n",
              "      fill: #D2E3FC;\n",
              "    }\n",
              "\n",
              "    [theme=dark] .colab-df-convert:hover {\n",
              "      background-color: #434B5C;\n",
              "      box-shadow: 0px 1px 3px 1px rgba(0, 0, 0, 0.15);\n",
              "      filter: drop-shadow(0px 1px 2px rgba(0, 0, 0, 0.3));\n",
              "      fill: #FFFFFF;\n",
              "    }\n",
              "  </style>\n",
              "\n",
              "      <script>\n",
              "        const buttonEl =\n",
              "          document.querySelector('#df-f2e4c03f-5111-40fc-ab28-01f5b6dddd4e button.colab-df-convert');\n",
              "        buttonEl.style.display =\n",
              "          google.colab.kernel.accessAllowed ? 'block' : 'none';\n",
              "\n",
              "        async function convertToInteractive(key) {\n",
              "          const element = document.querySelector('#df-f2e4c03f-5111-40fc-ab28-01f5b6dddd4e');\n",
              "          const dataTable =\n",
              "            await google.colab.kernel.invokeFunction('convertToInteractive',\n",
              "                                                     [key], {});\n",
              "          if (!dataTable) return;\n",
              "\n",
              "          const docLinkHtml = 'Like what you see? Visit the ' +\n",
              "            '<a target=\"_blank\" href=https://colab.research.google.com/notebooks/data_table.ipynb>data table notebook</a>'\n",
              "            + ' to learn more about interactive tables.';\n",
              "          element.innerHTML = '';\n",
              "          dataTable['output_type'] = 'display_data';\n",
              "          await google.colab.output.renderOutput(dataTable, element);\n",
              "          const docLink = document.createElement('div');\n",
              "          docLink.innerHTML = docLinkHtml;\n",
              "          element.appendChild(docLink);\n",
              "        }\n",
              "      </script>\n",
              "    </div>\n",
              "  </div>\n",
              "  "
            ],
            "text/plain": [
              "   vendor_id  passenger_count  pickup_longitude  pickup_latitude  \\\n",
              "0          2                1        -73.982155        40.767937   \n",
              "1          1                1        -73.980415        40.738564   \n",
              "\n",
              "   dropoff_longitude  dropoff_latitude  store_and_fwd_flag  trip_duration  \\\n",
              "0         -73.964630         40.765602                   0            455   \n",
              "1         -73.999481         40.731152                   0            663   \n",
              "\n",
              "   hour  month  \n",
              "0    17      3  \n",
              "1     0      6  "
            ]
          },
          "execution_count": 6,
          "metadata": {},
          "output_type": "execute_result"
        }
      ],
      "source": [
        "df.head(2)"
      ]
    },
    {
      "cell_type": "code",
      "execution_count": null,
      "metadata": {
        "id": "8-Fec61ecP5d"
      },
      "outputs": [],
      "source": [
        "y=df['trip_duration']\n",
        "df.drop(['trip_duration'], axis=1, inplace=True)\n",
        "X=df"
      ]
    },
    {
      "cell_type": "code",
      "execution_count": null,
      "metadata": {
        "id": "7_Zu-VntbslS"
      },
      "outputs": [],
      "source": [
        "from sklearn.model_selection import train_test_split\n",
        "X_train, X_test, y_train, y_test = train_test_split(X, y, test_size=0.3, random_state=42)"
      ]
    },
    {
      "cell_type": "code",
      "execution_count": null,
      "metadata": {
        "id": "Eglpp08gdFgC"
      },
      "outputs": [],
      "source": [
        "from sklearn.preprocessing import StandardScaler\n",
        "scaler = StandardScaler()\n",
        "X_train=scaler.fit_transform(X_train)\n",
        "X_test=scaler.transform(X_test)"
      ]
    },
    {
      "cell_type": "code",
      "execution_count": null,
      "metadata": {
        "id": "1b1WnnJWdZgq"
      },
      "outputs": [],
      "source": [
        "from sklearn.linear_model import LinearRegression\n",
        "reg = LinearRegression().fit(X_train, y_train)\n",
        "y_train_pred=reg.predict(X_train)\n",
        "y_test_pred=reg.predict(X_test)"
      ]
    },
    {
      "cell_type": "code",
      "execution_count": null,
      "metadata": {
        "colab": {
          "base_uri": "https://localhost:8080/"
        },
        "id": "erUzFioAd6PL",
        "outputId": "45e5a8e1-94dd-4ff4-c11f-152a5a8957d4"
      },
      "outputs": [
        {
          "data": {
            "text/plain": [
              "0.004518623793102083"
            ]
          },
          "execution_count": 55,
          "metadata": {},
          "output_type": "execute_result"
        }
      ],
      "source": [
        "from sklearn.metrics import r2_score\n",
        "r2_score(y_test, y_test_pred)"
      ]
    },
    {
      "cell_type": "code",
      "execution_count": null,
      "metadata": {
        "colab": {
          "base_uri": "https://localhost:8080/"
        },
        "id": "DtKaQ_LUeBuT",
        "outputId": "3bbffcfb-b6a0-4b2b-d4ca-7fd7941bc5b6"
      },
      "outputs": [
        {
          "data": {
            "text/plain": [
              "0.0018616876013415329"
            ]
          },
          "execution_count": 56,
          "metadata": {},
          "output_type": "execute_result"
        }
      ],
      "source": [
        "r2_score(y_train, y_train_pred)"
      ]
    },
    {
      "cell_type": "code",
      "execution_count": null,
      "metadata": {
        "colab": {
          "base_uri": "https://localhost:8080/",
          "height": 372
        },
        "id": "NyG2mQ8Ue-bo",
        "outputId": "f947e913-6d69-4b8a-ac5d-905d197ee490"
      },
      "outputs": [
        {
          "data": {
            "text/plain": [
              "<AxesSubplot:>"
            ]
          },
          "execution_count": 62,
          "metadata": {},
          "output_type": "execute_result"
        },
        {
          "data": {
            "image/png": "[encoded data removed]",
            "text/plain": [
              "<Figure size 432x288 with 2 Axes>"
            ]
          },
          "metadata": {},
          "output_type": "display_data"
        }
      ],
      "source": [
        "corr=X.corr()\n",
        "sns.heatmap(corr, annot=True)"
      ]
    },
    {
      "cell_type": "code",
      "execution_count": null,
      "metadata": {
        "id": "hC3pJHRyxmlX"
      },
      "outputs": [],
      "source": [
        "from sklearn.preprocessing import StandardScaler\n",
        "from sklearn.model_selection import train_test_split\n",
        "from sklearn.preprocessing import MinMaxScaler\n",
        "\n",
        "from sklearn.linear_model import LinearRegression\n",
        "from sklearn.tree import DecisionTreeRegressor\n",
        "from sklearn.neighbors import KNeighborsRegressor\n",
        "from sklearn.svm import SVR\n",
        "from sklearn.ensemble import RandomForestRegressor\n",
        "from sklearn.metrics import mean_squared_error, r2_score\n",
        "\n",
        "def my_train_test_split(df, scaler_='StandardScaler'):\n",
        "  y=df['trip_duration']\n",
        "  X=df[[c for c in df.columns.tolist() if c!='trip_duration']]\n",
        "  X_train, X_test, y_train, y_test = train_test_split(X, y, test_size=0.3, random_state=42)\n",
        "  if scaler_=='MinMax':\n",
        "    scaler = StandardScaler()\n",
        "    X_train=scaler.fit_transform(X_train)\n",
        "    X_test=scaler.transform(X_test)\n",
        "  else:\n",
        "    scaler = StandardScaler()\n",
        "    X_train=scaler.fit_transform(X_train)\n",
        "    X_test=scaler.transform(X_test)\n",
        "  return X_train, X_test, y_train, y_test\n",
        "\n",
        "# def performance(X_train, X_test, y_train, y_test):\n",
        "#     mse_train=mean_squared_error(y_train, model.predict(X_train))\n",
        "#     mse_test=mean_squared_error(y_test, model.predict(X_test))\n",
        "#     r2_train=r2_score(y_train, model.predict(X_train))\n",
        "#     r2_test=r2_score(y_test, model.predict(X_test))  \n",
        "\n",
        "\n",
        "#     print(f\"RMSE of train dataset\", mse_train)\n",
        "#     print(f\"RMSE of test dataset\", mse_test)\n",
        "#     print(f\"RMSE of train dataset\", r2_test)\n",
        "#     print(f\"RMSE of test dataset\", r2_train)\n",
        "\n",
        "def model(algo):\n",
        "  X_train, X_test, y_train, y_test=my_train_test_split(df)\n",
        "  if algo=='Linear Regression':\n",
        "    model = LinearRegression()\n",
        "    model.fit(X_train, y_train)\n",
        "  elif algo=='Decision Tree':\n",
        "    model = DecisionTreeRegressor()\n",
        "    model.fit(X_train, y_train)\n",
        "\n",
        "  elif algo=='KNN':\n",
        "    model = KNeighborsRegressor()\n",
        "    model.fit(X_train, y_train)\n",
        "\n",
        "  elif algo=='SVR':\n",
        "    model = SVR()\n",
        "    model.fit(X_train, y_train)\n",
        "\n",
        "  else:\n",
        "    model = RandomForestRegressor()\n",
        "    model.fit(X_train, y_train)\n",
        "  \n",
        "\n",
        "  mse_train=mean_squared_error(y_train, model.predict(X_train), squared=False)\n",
        "  mse_test=mean_squared_error(y_test, model.predict(X_test), squared=False)\n",
        "  r2_train=r2_score(y_train, model.predict(X_train))\n",
        "  r2_test=r2_score(y_test, model.predict(X_test))  \n",
        "\n",
        "\n",
        "  print(f\"RMSE of train dataset\", mse_train)\n",
        "  print(f\"RMSE of test dataset\", mse_test)\n",
        "  print(f\"R2_score of train dataset\", r2_test)\n",
        "  print(f\"R2_score of test dataset\", r2_train)\n",
        "\n"
      ]
    },
    {
      "cell_type": "code",
      "execution_count": null,
      "metadata": {
        "id": "VGbwuxI7M7Fv"
      },
      "outputs": [],
      "source": [
        "model_name=['Linear Regression', 'Decision Tree', 'KNN', 'SVM', 'Random Forest']"
      ]
    },
    {
      "cell_type": "code",
      "execution_count": null,
      "metadata": {
        "colab": {
          "base_uri": "https://localhost:8080/"
        },
        "id": "NCc2R9lieGAU",
        "outputId": "7f647a66-8a4c-4656-fc85-fefdc9814c9f"
      },
      "outputs": [
        {
          "data": {
            "text/plain": [
              "array([508.08946439, 542.04113804, 553.93951942, ..., 537.0196459 ,\n",
              "       552.05368964, 536.41979955])"
            ]
          },
          "execution_count": 56,
          "metadata": {},
          "output_type": "execute_result"
        }
      ],
      "source": [
        "y=df['trip_duration']\n",
        "X=df[[c for c in df.columns.tolist() if c!='trip_duration']]\n",
        "X_train, X_test, y_train, y_test = train_test_split(X, y, test_size=0.3, random_state=42)\n",
        "model = LinearRegression()\n",
        "model.fit(X_train, y_train)\n",
        "model.predict(X_train)"
      ]
    },
    {
      "cell_type": "code",
      "execution_count": null,
      "metadata": {
        "id": "QNth6WnSQd_e"
      },
      "outputs": [],
      "source": [
        "model('Linear Regression')"
      ]
    },
    {
      "cell_type": "code",
      "execution_count": null,
      "metadata": {
        "colab": {
          "base_uri": "https://localhost:8080/"
        },
        "id": "jJ6O3-bGf4d3",
        "outputId": "ef2b502e-8e00-43e5-8654-da430de2e32f"
      },
      "outputs": [
        {
          "data": {
            "text/plain": [
              "datetime.datetime(2023, 3, 29, 17, 15, 43, 830180)"
            ]
          },
          "execution_count": 10,
          "metadata": {},
          "output_type": "execute_result"
        }
      ],
      "source": [
        "from datetime import datetime\n",
        "datetime.now()"
      ]
    },
    {
      "cell_type": "code",
      "execution_count": null,
      "metadata": {
        "colab": {
          "base_uri": "https://localhost:8080/"
        },
        "id": "-xEm5W9vPDGL",
        "outputId": "dd9c21b7-2827-47a9-af8b-a3474069918f"
      },
      "outputs": [
        {
          "name": "stdout",
          "output_type": "stream",
          "text": [
            "Linear Regression\n",
            "RMSE of train dataset 256.6990553557813\n",
            "RMSE of test dataset 257.1466260876857\n",
            "R2_score of train dataset 0.007569386220805274\n",
            "R2_score of test dataset 0.010006881777723686\n",
            "Time taken: 0:00:01.9209613\n",
            "Decision Tree\n",
            "RMSE of train dataset 1.426462834301505\n",
            "RMSE of test dataset 212.51819485955346\n",
            "R2_score of train dataset 0.3221544827978198\n",
            "R2_score of test dataset 0.9999694293582009\n",
            "Time taken: 0:00:17.1488673\n",
            "KNN\n",
            "RMSE of train dataset 148.60871186699345\n",
            "RMSE of test dataset 183.34247815142513\n",
            "R2_score of train dataset 0.4954959162596825\n",
            "R2_score of test dataset 0.6682032144829018\n",
            "Time taken: 0:15:09.2645193\n",
            "SVM\n",
            "RMSE of train dataset 55.86632621588951\n",
            "RMSE of test dataset 149.66907087031413\n",
            "R2_score of train dataset 0.6637962007612421\n",
            "R2_score of test dataset 0.9531096082967843\n",
            "Time taken: 0:18:30.6133773\n",
            "Random Forest\n",
            "RMSE of train dataset 55.84797290940713\n",
            "RMSE of test dataset 149.66265406436273\n",
            "R2_score of train dataset 0.6638250284713476\n",
            "R2_score of test dataset 0.9531404122685643\n",
            "Time taken: 0:19:07.4114433\n"
          ]
        }
      ],
      "source": [
        "for algorithm in model_name:\n",
        "  start_time=datetime.now()\n",
        "  print(algorithm)\n",
        "  model(algorithm)\n",
        "  print(f\"Time taken: {datetime.now()-start_time}3\")"
      ]
    },
    {
      "cell_type": "markdown",
      "metadata": {
        "id": "08vW5Y4_UciR"
      },
      "source": [
        "# Outlier treatment"
      ]
    },
    {
      "cell_type": "code",
      "execution_count": null,
      "metadata": {
        "id": "xK_86tQJWWeR"
      },
      "outputs": [],
      "source": [
        "data=pd.read_csv('/content/drive/MyDrive/NYC Taxi Data.csv')"
      ]
    },
    {
      "cell_type": "code",
      "execution_count": null,
      "metadata": {
        "id": "W8iu2yQLUiDR"
      },
      "outputs": [],
      "source": [
        "df=data.copy()\n",
        "\n",
        "df['pickup_datetime'] = pd.to_datetime(df['pickup_datetime'])\n",
        "df['dropoff_datetime'] = pd.to_datetime(df['dropoff_datetime'])\n",
        "df['store_and_fwd_flag']=df['store_and_fwd_flag'].apply(lambda x: 0 if x=='N' else 0)\n",
        "\n",
        "# creating  hour and month column\n",
        "df['hour']=df['pickup_datetime'].dt.hour\n",
        "df['month']=df['pickup_datetime'].dt.month\n",
        "\n",
        "#Droping unnecessary columns\n",
        "df.drop(['dropoff_datetime','pickup_datetime','id'], axis=1, inplace=True)"
      ]
    },
    {
      "cell_type": "code",
      "execution_count": null,
      "metadata": {
        "colab": {
          "base_uri": "https://localhost:8080/",
          "height": 747
        },
        "id": "7yyXj6v0VNYF",
        "outputId": "49346016-863c-4f48-ad65-09f2c577f2e5"
      },
      "outputs": [
        {
          "name": "stdout",
          "output_type": "stream",
          "text": [
            "no of observations before outlier removal of trip duration 1458644\n",
            "no of observations before after removal of trip duration 1094153\n"
          ]
        },
        {
          "data": {
            "text/plain": [
              "<Axes: >"
            ]
          },
          "execution_count": 6,
          "metadata": {},
          "output_type": "execute_result"
        },
        {
          "data": {
            "image/png": "[encoded data removed]",
            "text/plain": [
              "<Figure size 1000x800 with 2 Axes>"
            ]
          },
          "metadata": {},
          "output_type": "display_data"
        }
      ],
      "source": [
        "plt.figure(figsize=(10,8))\n",
        "plt.subplot(2,1,1)\n",
        "print(f'no of observations before outlier removal of trip duration {df.shape[0]}')\n",
        "df['trip_duration'].plot(kind='box')\n",
        "\n",
        "IQR=df['trip_duration'].quantile(0.75)-df['trip_duration'].quantile(0.75)\n",
        "UL=df['trip_duration'].quantile(0.75)+IQR*1.5\n",
        "df.drop(df[df.trip_duration>UL].index, inplace=True)\n",
        "\n",
        "plt.subplot(2,1,2)\n",
        "print(f'no of observations before after removal of trip duration {df.shape[0]}')\n",
        "df['trip_duration'].plot(kind='box')"
      ]
    },
    {
      "cell_type": "code",
      "execution_count": null,
      "metadata": {
        "colab": {
          "base_uri": "https://localhost:8080/"
        },
        "id": "GZrdAYbuXPZG",
        "outputId": "004e435d-a517-43b7-f392-90453df24a86"
      },
      "outputs": [
        {
          "data": {
            "text/plain": [
              "['pickup_longitude',\n",
              " 'pickup_latitude',\n",
              " 'dropoff_longitude',\n",
              " 'dropoff_latitude',\n",
              " 'trip_duration',\n",
              " 'hour',\n",
              " 'month']"
            ]
          },
          "execution_count": 7,
          "metadata": {},
          "output_type": "execute_result"
        }
      ],
      "source": [
        "# Box plot\n",
        "numeric_columns=[c for c in df.columns if c not in ['vendor_id', 'passenger_count', 'store_and_fwd_flag']]\n",
        "numeric_columns"
      ]
    },
    {
      "cell_type": "code",
      "execution_count": null,
      "metadata": {
        "id": "6mS07YVgXT3c"
      },
      "outputs": [],
      "source": [
        "import numpy as np\n",
        "for i, column in enumerate(numeric_columns):\n",
        "  mean = np.mean(df[column])\n",
        "  std = np.std(df[column])\n",
        "  df[f'{column}+_cleaned'] = df[column].apply(lambda x: (x-mean)/std)\n",
        "  df.drop(index=df.loc[(df[f'{column}+_cleaned']<-3) | (3<df[f'{column}+_cleaned'])].index.to_list(), inplace=True)\n",
        "  df.drop(columns=[f'{column}+_cleaned'], inplace=True)"
      ]
    },
    {
      "cell_type": "code",
      "execution_count": null,
      "metadata": {
        "colab": {
          "base_uri": "https://localhost:8080/",
          "height": 206
        },
        "id": "LpVtrGEYXchb",
        "outputId": "87d32953-2870-4787-c779-56794582cce5"
      },
      "outputs": [
        {
          "data": {
            "text/html": [
              "\n",
              "  <div id=\"df-1fb0b884-efef-4a65-b641-db918451fd42\">\n",
              "    <div class=\"colab-df-container\">\n",
              "      <div>\n",
              "<style scoped>\n",
              "    .dataframe tbody tr th:only-of-type {\n",
              "        vertical-align: middle;\n",
              "    }\n",
              "\n",
              "    .dataframe tbody tr th {\n",
              "        vertical-align: top;\n",
              "    }\n",
              "\n",
              "    .dataframe thead th {\n",
              "        text-align: right;\n",
              "    }\n",
              "</style>\n",
              "<table border=\"1\" class=\"dataframe\">\n",
              "  <thead>\n",
              "    <tr style=\"text-align: right;\">\n",
              "      <th></th>\n",
              "      <th>vendor_id</th>\n",
              "      <th>passenger_count</th>\n",
              "      <th>pickup_longitude</th>\n",
              "      <th>pickup_latitude</th>\n",
              "      <th>dropoff_longitude</th>\n",
              "      <th>dropoff_latitude</th>\n",
              "      <th>store_and_fwd_flag</th>\n",
              "      <th>trip_duration</th>\n",
              "      <th>hour</th>\n",
              "      <th>month</th>\n",
              "    </tr>\n",
              "  </thead>\n",
              "  <tbody>\n",
              "    <tr>\n",
              "      <th>0</th>\n",
              "      <td>2</td>\n",
              "      <td>1</td>\n",
              "      <td>-73.982155</td>\n",
              "      <td>40.767937</td>\n",
              "      <td>-73.964630</td>\n",
              "      <td>40.765602</td>\n",
              "      <td>0</td>\n",
              "      <td>455</td>\n",
              "      <td>17</td>\n",
              "      <td>3</td>\n",
              "    </tr>\n",
              "    <tr>\n",
              "      <th>1</th>\n",
              "      <td>1</td>\n",
              "      <td>1</td>\n",
              "      <td>-73.980415</td>\n",
              "      <td>40.738564</td>\n",
              "      <td>-73.999481</td>\n",
              "      <td>40.731152</td>\n",
              "      <td>0</td>\n",
              "      <td>663</td>\n",
              "      <td>0</td>\n",
              "      <td>6</td>\n",
              "    </tr>\n",
              "    <tr>\n",
              "      <th>3</th>\n",
              "      <td>2</td>\n",
              "      <td>1</td>\n",
              "      <td>-74.010040</td>\n",
              "      <td>40.719971</td>\n",
              "      <td>-74.012268</td>\n",
              "      <td>40.706718</td>\n",
              "      <td>0</td>\n",
              "      <td>429</td>\n",
              "      <td>19</td>\n",
              "      <td>4</td>\n",
              "    </tr>\n",
              "    <tr>\n",
              "      <th>4</th>\n",
              "      <td>2</td>\n",
              "      <td>1</td>\n",
              "      <td>-73.973053</td>\n",
              "      <td>40.793209</td>\n",
              "      <td>-73.972923</td>\n",
              "      <td>40.782520</td>\n",
              "      <td>0</td>\n",
              "      <td>435</td>\n",
              "      <td>13</td>\n",
              "      <td>3</td>\n",
              "    </tr>\n",
              "    <tr>\n",
              "      <th>5</th>\n",
              "      <td>2</td>\n",
              "      <td>6</td>\n",
              "      <td>-73.982857</td>\n",
              "      <td>40.742195</td>\n",
              "      <td>-73.992081</td>\n",
              "      <td>40.749184</td>\n",
              "      <td>0</td>\n",
              "      <td>443</td>\n",
              "      <td>22</td>\n",
              "      <td>1</td>\n",
              "    </tr>\n",
              "  </tbody>\n",
              "</table>\n",
              "</div>\n",
              "      <button class=\"colab-df-convert\" onclick=\"convertToInteractive('df-1fb0b884-efef-4a65-b641-db918451fd42')\"\n",
              "              title=\"Convert this dataframe to an interactive table.\"\n",
              "              style=\"display:none;\">\n",
              "        \n",
              "  <svg xmlns=\"http://www.w3.org/2000/svg\" height=\"24px\"viewBox=\"0 0 24 24\"\n",
              "       width=\"24px\">\n",
              "    <path d=\"M0 0h24v24H0V0z\" fill=\"none\"/>\n",
              "    <path d=\"M18.56 5.44l.94 2.06.94-2.06 2.06-.94-2.06-.94-.94-2.06-.94 2.06-2.06.94zm-11 1L8.5 8.5l.94-2.06 2.06-.94-2.06-.94L8.5 2.5l-.94 2.06-2.06.94zm10 10l.94 2.06.94-2.06 2.06-.94-2.06-.94-.94-2.06-.94 2.06-2.06.94z\"/><path d=\"M17.41 7.96l-1.37-1.37c-.4-.4-.92-.59-1.43-.59-.52 0-1.04.2-1.43.59L10.3 9.45l-7.72 7.72c-.78.78-.78 2.05 0 2.83L4 21.41c.39.39.9.59 1.41.59.51 0 1.02-.2 1.41-.59l7.78-7.78 2.81-2.81c.8-.78.8-2.07 0-2.86zM5.41 20L4 18.59l7.72-7.72 1.47 1.35L5.41 20z\"/>\n",
              "  </svg>\n",
              "      </button>\n",
              "      \n",
              "  <style>\n",
              "    .colab-df-container {\n",
              "      display:flex;\n",
              "      flex-wrap:wrap;\n",
              "      gap: 12px;\n",
              "    }\n",
              "\n",
              "    .colab-df-convert {\n",
              "      background-color: #E8F0FE;\n",
              "      border: none;\n",
              "      border-radius: 50%;\n",
              "      cursor: pointer;\n",
              "      display: none;\n",
              "      fill: #1967D2;\n",
              "      height: 32px;\n",
              "      padding: 0 0 0 0;\n",
              "      width: 32px;\n",
              "    }\n",
              "\n",
              "    .colab-df-convert:hover {\n",
              "      background-color: #E2EBFA;\n",
              "      box-shadow: 0px 1px 2px rgba(60, 64, 67, 0.3), 0px 1px 3px 1px rgba(60, 64, 67, 0.15);\n",
              "      fill: #174EA6;\n",
              "    }\n",
              "\n",
              "    [theme=dark] .colab-df-convert {\n",
              "      background-color: #3B4455;\n",
              "      fill: #D2E3FC;\n",
              "    }\n",
              "\n",
              "    [theme=dark] .colab-df-convert:hover {\n",
              "      background-color: #434B5C;\n",
              "      box-shadow: 0px 1px 3px 1px rgba(0, 0, 0, 0.15);\n",
              "      filter: drop-shadow(0px 1px 2px rgba(0, 0, 0, 0.3));\n",
              "      fill: #FFFFFF;\n",
              "    }\n",
              "  </style>\n",
              "\n",
              "      <script>\n",
              "        const buttonEl =\n",
              "          document.querySelector('#df-1fb0b884-efef-4a65-b641-db918451fd42 button.colab-df-convert');\n",
              "        buttonEl.style.display =\n",
              "          google.colab.kernel.accessAllowed ? 'block' : 'none';\n",
              "\n",
              "        async function convertToInteractive(key) {\n",
              "          const element = document.querySelector('#df-1fb0b884-efef-4a65-b641-db918451fd42');\n",
              "          const dataTable =\n",
              "            await google.colab.kernel.invokeFunction('convertToInteractive',\n",
              "                                                     [key], {});\n",
              "          if (!dataTable) return;\n",
              "\n",
              "          const docLinkHtml = 'Like what you see? Visit the ' +\n",
              "            '<a target=\"_blank\" href=https://colab.research.google.com/notebooks/data_table.ipynb>data table notebook</a>'\n",
              "            + ' to learn more about interactive tables.';\n",
              "          element.innerHTML = '';\n",
              "          dataTable['output_type'] = 'display_data';\n",
              "          await google.colab.output.renderOutput(dataTable, element);\n",
              "          const docLink = document.createElement('div');\n",
              "          docLink.innerHTML = docLinkHtml;\n",
              "          element.appendChild(docLink);\n",
              "        }\n",
              "      </script>\n",
              "    </div>\n",
              "  </div>\n",
              "  "
            ],
            "text/plain": [
              "   vendor_id  passenger_count  pickup_longitude  pickup_latitude  \\\n",
              "0          2                1        -73.982155        40.767937   \n",
              "1          1                1        -73.980415        40.738564   \n",
              "3          2                1        -74.010040        40.719971   \n",
              "4          2                1        -73.973053        40.793209   \n",
              "5          2                6        -73.982857        40.742195   \n",
              "\n",
              "   dropoff_longitude  dropoff_latitude  store_and_fwd_flag  trip_duration  \\\n",
              "0         -73.964630         40.765602                   0            455   \n",
              "1         -73.999481         40.731152                   0            663   \n",
              "3         -74.012268         40.706718                   0            429   \n",
              "4         -73.972923         40.782520                   0            435   \n",
              "5         -73.992081         40.749184                   0            443   \n",
              "\n",
              "   hour  month  \n",
              "0    17      3  \n",
              "1     0      6  \n",
              "3    19      4  \n",
              "4    13      3  \n",
              "5    22      1  "
            ]
          },
          "execution_count": 9,
          "metadata": {},
          "output_type": "execute_result"
        }
      ],
      "source": [
        "df.head()"
      ]
    },
    {
      "cell_type": "code",
      "execution_count": null,
      "metadata": {
        "id": "5ZBhsbYYXsdV"
      },
      "outputs": [],
      "source": [
        "from sklearn.preprocessing import StandardScaler\n",
        "from sklearn.model_selection import train_test_split\n",
        "from sklearn.preprocessing import MinMaxScaler\n",
        "\n",
        "from sklearn.linear_model import LinearRegression\n",
        "from sklearn.tree import DecisionTreeRegressor\n",
        "from sklearn.neighbors import KNeighborsRegressor\n",
        "from sklearn.svm import SVR\n",
        "from sklearn.ensemble import RandomForestRegressor\n",
        "from sklearn.metrics import mean_squared_error, r2_score\n",
        "\n",
        "def my_train_test_split(df, scaler_='StandardScaler'):\n",
        "  y=df['trip_duration']\n",
        "  X=df[[c for c in df.columns.tolist() if c!='trip_duration']]\n",
        "  X_train, X_test, y_train, y_test = train_test_split(X, y, test_size=0.3, random_state=42)\n",
        "  if scaler_=='MinMax':\n",
        "    scaler = StandardScaler()\n",
        "    X_train=scaler.fit_transform(X_train)\n",
        "    X_test=scaler.transform(X_test)\n",
        "  else:\n",
        "    scaler = StandardScaler()\n",
        "    X_train=scaler.fit_transform(X_train)\n",
        "    X_test=scaler.transform(X_test)\n",
        "  return X_train, X_test, y_train, y_test\n",
        "\n",
        "# def performance(X_train, X_test, y_train, y_test):\n",
        "#     mse_train=mean_squared_error(y_train, model.predict(X_train))\n",
        "#     mse_test=mean_squared_error(y_test, model.predict(X_test))\n",
        "#     r2_train=r2_score(y_train, model.predict(X_train))\n",
        "#     r2_test=r2_score(y_test, model.predict(X_test))  \n",
        "\n",
        "\n",
        "#     print(f\"RMSE of train dataset\", mse_train)\n",
        "#     print(f\"RMSE of test dataset\", mse_test)\n",
        "#     print(f\"RMSE of train dataset\", r2_test)\n",
        "#     print(f\"RMSE of test dataset\", r2_train)\n",
        "\n",
        "def model(algo):\n",
        "  X_train, X_test, y_train, y_test=my_train_test_split(df)\n",
        "  if algo=='Linear Regression':\n",
        "    model = LinearRegression()\n",
        "    model.fit(X_train, y_train)\n",
        "  elif algo=='Decision Tree':\n",
        "    model = DecisionTreeRegressor()\n",
        "    model.fit(X_train, y_train)\n",
        "\n",
        "  elif algo=='KNN':\n",
        "    model = KNeighborsRegressor()\n",
        "    model.fit(X_train, y_train)\n",
        "\n",
        "  elif algo=='SVR':\n",
        "    model = SVR()\n",
        "    model.fit(X_train, y_train)\n",
        "\n",
        "  else:\n",
        "    model = RandomForestRegressor()\n",
        "    model.fit(X_train, y_train)\n",
        "  \n",
        "\n",
        "  mse_train=mean_squared_error(y_train, model.predict(X_train), squared=False)\n",
        "  mse_test=mean_squared_error(y_test, model.predict(X_test), squared=False)\n",
        "  r2_train=r2_score(y_train, model.predict(X_train))\n",
        "  r2_test=r2_score(y_test, model.predict(X_test))  \n",
        "\n",
        "\n",
        "  print(f\"RMSE of train dataset\", mse_train)\n",
        "  print(f\"RMSE of test dataset\", mse_test)\n",
        "  print(f\"R2_score of train dataset\", r2_test)\n",
        "  print(f\"R2_score of test dataset\", r2_train)\n",
        "\n"
      ]
    },
    {
      "cell_type": "code",
      "execution_count": null,
      "metadata": {
        "id": "97KZC7c6XsdW"
      },
      "outputs": [],
      "source": [
        "model_name=['Linear Regression', 'Decision Tree', 'KNN', 'SVM', 'Random Forest']"
      ]
    },
    {
      "cell_type": "code",
      "execution_count": null,
      "metadata": {
        "colab": {
          "base_uri": "https://localhost:8080/"
        },
        "id": "OWjKHsq0XsdW",
        "outputId": "44860b69-50c0-432b-a635-52228a843601"
      },
      "outputs": [
        {
          "data": {
            "text/plain": [
              "array([544.49417123, 522.24615713, 526.81079288, ..., 520.60065676,\n",
              "       637.78391422, 567.87987619])"
            ]
          },
          "execution_count": 13,
          "metadata": {},
          "output_type": "execute_result"
        }
      ],
      "source": [
        "y=df['trip_duration']\n",
        "X=df[[c for c in df.columns.tolist() if c!='trip_duration']]\n",
        "X_train, X_test, y_train, y_test = train_test_split(X, y, test_size=0.3, random_state=42)\n",
        "model = LinearRegression()\n",
        "model.fit(X_train, y_train)\n",
        "model.predict(X_train)"
      ]
    },
    {
      "cell_type": "code",
      "execution_count": null,
      "metadata": {
        "colab": {
          "base_uri": "https://localhost:8080/"
        },
        "id": "_qObNUTlXsdX",
        "outputId": "7aebf141-09f5-4d0f-86a2-b902dc60943a"
      },
      "outputs": [
        {
          "name": "stdout",
          "output_type": "stream",
          "text": [
            "Linear Regression\n",
            "RMSE of train dataset 253.70508790797737\n",
            "RMSE of test dataset 253.99740750882688\n",
            "R2_score of train dataset 0.014468264411265142\n",
            "R2_score of test dataset 0.014646634786307011\n",
            "Time taken: 0:00:00.6144973\n",
            "Decision Tree\n",
            "RMSE of train dataset 0.6653165380031385\n",
            "RMSE of test dataset 212.40635980175534\n",
            "R2_score of train dataset 0.3107971285750569\n",
            "R2_score of test dataset 0.999993223736454\n",
            "Time taken: 0:00:13.7054363\n",
            "KNN\n",
            "RMSE of train dataset 141.3159656553395\n",
            "RMSE of test dataset 173.96939326037804\n",
            "R2_score of train dataset 0.5376639656076582\n",
            "R2_score of test dataset 0.6942854480587557\n",
            "Time taken: 0:07:36.0887753\n",
            "SVM\n",
            "RMSE of train dataset 55.972224634895106\n",
            "RMSE of test dataset 149.89989448405942\n",
            "R2_score of train dataset 0.6567467165461554\n",
            "R2_score of test dataset 0.9520400427468204\n",
            "Time taken: 0:14:01.2642943\n",
            "Random Forest\n",
            "RMSE of train dataset 55.92622386155646\n",
            "RMSE of test dataset 149.8365114591684\n",
            "R2_score of train dataset 0.6570369346518601\n",
            "R2_score of test dataset 0.9521188421355021\n",
            "Time taken: 0:14:21.0575523\n"
          ]
        }
      ],
      "source": [
        "for algorithm in model_name:\n",
        "  start_time=datetime.now()\n",
        "  print(algorithm)\n",
        "  model(algorithm)\n",
        "  print(f\"Time taken: {datetime.now()-start_time}3\")"
      ]
    },
    {
      "cell_type": "markdown",
      "metadata": {
        "id": "Ni3QxwOmVrEk"
      },
      "source": [
        "# Hyperparameter tuning"
      ]
    },
    {
      "cell_type": "markdown",
      "metadata": {
        "id": "MZld8OWsVzt1"
      },
      "source": [
        "Support Vector Regressor"
      ]
    },
    {
      "cell_type": "code",
      "execution_count": null,
      "metadata": {
        "id": "FrwCw17KVwKv"
      },
      "outputs": [],
      "source": [
        "data=pd.read_csv('/content/drive/MyDrive/Regression/NYC Taxi Data.csv')"
      ]
    },
    {
      "cell_type": "code",
      "execution_count": null,
      "metadata": {
        "colab": {
          "base_uri": "https://localhost:8080/"
        },
        "id": "Re53JR0IWZYh",
        "outputId": "9f60c035-4348-4d39-c203-ac2913010e6e"
      },
      "outputs": [
        {
          "output_type": "stream",
          "name": "stdout",
          "text": [
            "No of observation before outlier treatment of trip_duration 1458644\n",
            "No of observation after outlier treatment of trip_duration 1094153\n",
            "\n",
            "\n",
            "No of observation before outlier treatment of other features 1094153\n",
            "No of observation after outlier treatment of other features 1061600\n"
          ]
        }
      ],
      "source": [
        "df=data.copy()\n",
        "\n",
        "df['pickup_datetime'] = pd.to_datetime(df['pickup_datetime'])\n",
        "df['dropoff_datetime'] = pd.to_datetime(df['dropoff_datetime'])\n",
        "df['store_and_fwd_flag']=df['store_and_fwd_flag'].apply(lambda x: 0 if x=='N' else 0)\n",
        "\n",
        "# creating  hour and month column\n",
        "df['hour']=df['pickup_datetime'].dt.hour\n",
        "df['month']=df['pickup_datetime'].dt.month\n",
        "\n",
        "#Droping unnecessary columns\n",
        "df.drop(['dropoff_datetime','pickup_datetime','id'], axis=1, inplace=True)\n",
        "\n",
        "print('No of observation before outlier treatment of trip_duration', df.shape[0])\n",
        "IQR=df['trip_duration'].quantile(0.75)-df['trip_duration'].quantile(0.75)\n",
        "UL=df['trip_duration'].quantile(0.75)+IQR*1.5\n",
        "df.drop(df[df.trip_duration>UL].index, inplace=True)\n",
        "\n",
        "print('No of observation after outlier treatment of trip_duration', df.shape[0])\n",
        "print('\\n')\n",
        "print('No of observation before outlier treatment of other features', df.shape[0])\n",
        "\n",
        "numeric_columns=[c for c in df.columns if c not in ['vendor_id', 'passenger_count', 'store_and_fwd_flag']]\n",
        "\n",
        "for i, column in enumerate(numeric_columns):\n",
        "  mean = np.mean(df[column])\n",
        "  std = np.std(df[column])\n",
        "  df[f'{column}+_cleaned'] = df[column].apply(lambda x: (x-mean)/std)\n",
        "  df.drop(index=df.loc[(df[f'{column}+_cleaned']<-3) | (3<df[f'{column}+_cleaned'])].index.to_list(), inplace=True)\n",
        "  df.drop(columns=[f'{column}+_cleaned'], inplace=True)\n",
        "\n",
        "print('No of observation after outlier treatment of other features', df.shape[0])"
      ]
    },
    {
      "cell_type": "code",
      "source": [
        "df=df.sample(10000)"
      ],
      "metadata": {
        "id": "BbaIExOYaDaY"
      },
      "execution_count": null,
      "outputs": []
    },
    {
      "cell_type": "code",
      "source": [
        "X_train, X_test, y_train, y_test = train_test_split(X, y, test_size=0.3, random_state=42)"
      ],
      "metadata": {
        "id": "UY50XRhmaYEQ"
      },
      "execution_count": null,
      "outputs": []
    },
    {
      "cell_type": "code",
      "source": [
        "y_train"
      ],
      "metadata": {
        "colab": {
          "base_uri": "https://localhost:8080/"
        },
        "id": "q9xX-9jZaca0",
        "outputId": "5b08f27c-ac0c-4b64-db69-3ad44bf88200"
      },
      "execution_count": null,
      "outputs": [
        {
          "output_type": "execute_result",
          "data": {
            "text/plain": [
              "1246515    465\n",
              "1283000    133\n",
              "815926     428\n",
              "734858     209\n",
              "1356759    529\n",
              "          ... \n",
              "1276005    418\n",
              "332305     277\n",
              "483417     249\n",
              "336049     417\n",
              "593963     645\n",
              "Name: trip_duration, Length: 7000, dtype: int64"
            ]
          },
          "metadata": {},
          "execution_count": 12
        }
      ]
    },
    {
      "cell_type": "code",
      "execution_count": null,
      "metadata": {
        "colab": {
          "base_uri": "https://localhost:8080/"
        },
        "id": "9trU34VAaIvG",
        "outputId": "b78506f2-27f4-446b-bb25-d555641d9ab1"
      },
      "outputs": [
        {
          "output_type": "stream",
          "name": "stdout",
          "text": [
            ".........Training.......\n",
            "\n",
            "Training time 0:00:05.392965\n",
            "\n",
            "\n",
            "RMSE of train dataset 0.46464920999042025\n",
            "RMSE of test dataset 0.4473128430768381\n",
            "R2_score of train dataset 0.43398081113647136\n",
            "R2_score of test dataset 0.38951357644998985\n"
          ]
        }
      ],
      "source": [
        "from sklearn.svm import SVR\n",
        "from sklearn.preprocessing import StandardScaler\n",
        "from sklearn.metrics import mean_squared_error, r2_score\n",
        "from sklearn.model_selection import train_test_split\n",
        "df=df.sample(10000, random_state=42)\n",
        "y=df['trip_duration']\n",
        "# lst=['linear', 'rbf', 'poly', 'sigmoid']\n",
        "y=np.log(y)\n",
        "X=df[[c for c in df.columns.tolist() if c!='trip_duration']]\n",
        "\n",
        "X_train, X_test, y_train, y_test = train_test_split(X, y, test_size=0.3, random_state=42)\n",
        "\n",
        "scaler = StandardScaler()\n",
        "X_train=scaler.fit_transform(X_train)\n",
        "X_test=scaler.transform(X_test)\n",
        "\n",
        "start=datetime.now()\n",
        "print('.........Training.......\\n')\n",
        "model = SVR(kernel='rbf')\n",
        "model.fit(X_train, y_train)\n",
        "\n",
        "print('Training time', datetime.now()-start)\n",
        "\n",
        "print('\\n')\n",
        "\n",
        "mse_train=mean_squared_error(y_train, model.predict(X_train), squared=False)\n",
        "mse_test=mean_squared_error(y_test, model.predict(X_test), squared=False)\n",
        "r2_train=r2_score(y_train, model.predict(X_train))\n",
        "r2_test=r2_score(y_test, model.predict(X_test))  \n",
        "\n",
        "\n",
        "print(f\"RMSE of train dataset\", mse_train)\n",
        "print(f\"RMSE of test dataset\", mse_test)\n",
        "print(f\"R2_score of train dataset\", r2_train)\n",
        "print(f\"R2_score of test dataset\", r2_test)"
      ]
    },
    {
      "cell_type": "code",
      "source": [
        "from sklearn import svm, datasets\n",
        "from sklearn.model_selection import GridSearchCV\n",
        "\n",
        "df=df.sample(10000, random_state=42)\n",
        "y=df['trip_duration']\n",
        "y=np.log(y)\n",
        "X=df[[c for c in df.columns.tolist() if c!='trip_duration']]\n",
        "\n",
        "X_train, X_test, y_train, y_test = train_test_split(X, y, test_size=0.3, random_state=42)\n",
        "\n",
        "scaler = StandardScaler()\n",
        "X_train=scaler.fit_transform(X_train)\n",
        "X_test=scaler.transform(X_test)\n",
        "\n",
        "\n",
        "parameters = {'C':[1,5,10,20,50,80,100,150,200,300]}\n",
        "svc = svm.SVR()\n",
        "clf = GridSearchCV(svc, parameters, cv=3)\n",
        "clf.fit(X_train, y_train)\n",
        "\n",
        "\n",
        "sorted(clf.cv_results_.keys())"
      ],
      "metadata": {
        "id": "j5ziBY1lfevr",
        "colab": {
          "base_uri": "https://localhost:8080/"
        },
        "outputId": "68c1773b-0295-454a-9432-48503be5f498"
      },
      "execution_count": null,
      "outputs": [
        {
          "output_type": "execute_result",
          "data": {
            "text/plain": [
              "['mean_fit_time',\n",
              " 'mean_score_time',\n",
              " 'mean_test_score',\n",
              " 'param_C',\n",
              " 'params',\n",
              " 'rank_test_score',\n",
              " 'split0_test_score',\n",
              " 'split1_test_score',\n",
              " 'split2_test_score',\n",
              " 'std_fit_time',\n",
              " 'std_score_time',\n",
              " 'std_test_score']"
            ]
          },
          "metadata": {},
          "execution_count": 29
        }
      ]
    },
    {
      "cell_type": "code",
      "source": [
        "clf.best_score_"
      ],
      "metadata": {
        "colab": {
          "base_uri": "https://localhost:8080/"
        },
        "id": "2NdBhbQzIo_i",
        "outputId": "275a81ea-3c1a-41da-9e16-6b99b142f2ae"
      },
      "execution_count": null,
      "outputs": [
        {
          "output_type": "execute_result",
          "data": {
            "text/plain": [
              "0.3836479461113183"
            ]
          },
          "metadata": {},
          "execution_count": 30
        }
      ]
    },
    {
      "cell_type": "code",
      "source": [
        "clf.best_estimator_"
      ],
      "metadata": {
        "colab": {
          "base_uri": "https://localhost:8080/",
          "height": 74
        },
        "id": "AKurv47EJ96t",
        "outputId": "ceab32fb-1aa4-4726-b144-3d2bd2d8da38"
      },
      "execution_count": null,
      "outputs": [
        {
          "output_type": "execute_result",
          "data": {
            "text/plain": [
              "SVR(C=5)"
            ],
            "text/html": [
              "<style>#sk-container-id-4 {color: black;background-color: white;}#sk-container-id-4 pre{padding: 0;}#sk-container-id-4 div.sk-toggleable {background-color: white;}#sk-container-id-4 label.sk-toggleable__label {cursor: pointer;display: block;width: 100%;margin-bottom: 0;padding: 0.3em;box-sizing: border-box;text-align: center;}#sk-container-id-4 label.sk-toggleable__label-arrow:before {content: \"▸\";float: left;margin-right: 0.25em;color: #696969;}#sk-container-id-4 label.sk-toggleable__label-arrow:hover:before {color: black;}#sk-container-id-4 div.sk-estimator:hover label.sk-toggleable__label-arrow:before {color: black;}#sk-container-id-4 div.sk-toggleable__content {max-height: 0;max-width: 0;overflow: hidden;text-align: left;background-color: #f0f8ff;}#sk-container-id-4 div.sk-toggleable__content pre {margin: 0.2em;color: black;border-radius: 0.25em;background-color: #f0f8ff;}#sk-container-id-4 input.sk-toggleable__control:checked~div.sk-toggleable__content {max-height: 200px;max-width: 100%;overflow: auto;}#sk-container-id-4 input.sk-toggleable__control:checked~label.sk-toggleable__label-arrow:before {content: \"▾\";}#sk-container-id-4 div.sk-estimator input.sk-toggleable__control:checked~label.sk-toggleable__label {background-color: #d4ebff;}#sk-container-id-4 div.sk-label input.sk-toggleable__control:checked~label.sk-toggleable__label {background-color: #d4ebff;}#sk-container-id-4 input.sk-hidden--visually {border: 0;clip: rect(1px 1px 1px 1px);clip: rect(1px, 1px, 1px, 1px);height: 1px;margin: -1px;overflow: hidden;padding: 0;position: absolute;width: 1px;}#sk-container-id-4 div.sk-estimator {font-family: monospace;background-color: #f0f8ff;border: 1px dotted black;border-radius: 0.25em;box-sizing: border-box;margin-bottom: 0.5em;}#sk-container-id-4 div.sk-estimator:hover {background-color: #d4ebff;}#sk-container-id-4 div.sk-parallel-item::after {content: \"\";width: 100%;border-bottom: 1px solid gray;flex-grow: 1;}#sk-container-id-4 div.sk-label:hover label.sk-toggleable__label {background-color: #d4ebff;}#sk-container-id-4 div.sk-serial::before {content: \"\";position: absolute;border-left: 1px solid gray;box-sizing: border-box;top: 0;bottom: 0;left: 50%;z-index: 0;}#sk-container-id-4 div.sk-serial {display: flex;flex-direction: column;align-items: center;background-color: white;padding-right: 0.2em;padding-left: 0.2em;position: relative;}#sk-container-id-4 div.sk-item {position: relative;z-index: 1;}#sk-container-id-4 div.sk-parallel {display: flex;align-items: stretch;justify-content: center;background-color: white;position: relative;}#sk-container-id-4 div.sk-item::before, #sk-container-id-4 div.sk-parallel-item::before {content: \"\";position: absolute;border-left: 1px solid gray;box-sizing: border-box;top: 0;bottom: 0;left: 50%;z-index: -1;}#sk-container-id-4 div.sk-parallel-item {display: flex;flex-direction: column;z-index: 1;position: relative;background-color: white;}#sk-container-id-4 div.sk-parallel-item:first-child::after {align-self: flex-end;width: 50%;}#sk-container-id-4 div.sk-parallel-item:last-child::after {align-self: flex-start;width: 50%;}#sk-container-id-4 div.sk-parallel-item:only-child::after {width: 0;}#sk-container-id-4 div.sk-dashed-wrapped {border: 1px dashed gray;margin: 0 0.4em 0.5em 0.4em;box-sizing: border-box;padding-bottom: 0.4em;background-color: white;}#sk-container-id-4 div.sk-label label {font-family: monospace;font-weight: bold;display: inline-block;line-height: 1.2em;}#sk-container-id-4 div.sk-label-container {text-align: center;}#sk-container-id-4 div.sk-container {/* jupyter's `normalize.less` sets `[hidden] { display: none; }` but bootstrap.min.css set `[hidden] { display: none !important; }` so we also need the `!important` here to be able to override the default hidden behavior on the sphinx rendered scikit-learn.org. See: https://github.com/scikit-learn/scikit-learn/issues/21755 */display: inline-block !important;position: relative;}#sk-container-id-4 div.sk-text-repr-fallback {display: none;}</style><div id=\"sk-container-id-4\" class=\"sk-top-container\"><div class=\"sk-text-repr-fallback\"><pre>SVR(C=5)</pre><b>In a Jupyter environment, please rerun this cell to show the HTML representation or trust the notebook. <br />On GitHub, the HTML representation is unable to render, please try loading this page with nbviewer.org.</b></div><div class=\"sk-container\" hidden><div class=\"sk-item\"><div class=\"sk-estimator sk-toggleable\"><input class=\"sk-toggleable__control sk-hidden--visually\" id=\"sk-estimator-id-4\" type=\"checkbox\" checked><label for=\"sk-estimator-id-4\" class=\"sk-toggleable__label sk-toggleable__label-arrow\">SVR</label><div class=\"sk-toggleable__content\"><pre>SVR(C=5)</pre></div></div></div></div></div>"
            ]
          },
          "metadata": {},
          "execution_count": 31
        }
      ]
    }
  ],
  "metadata": {
    "colab": {
      "collapsed_sections": [
        "l1OZJs4M4QcA",
        "2yQWh2V5465G",
        "TmsoIGiunTeS",
        "F8XCySb_g5r9"
      ],
      "provenance": [],
      "include_colab_link": true
    },
    "kernelspec": {
      "display_name": "Python 3",
      "name": "python3"
    },
    "language_info": {
      "name": "python"
    }
  },
  "nbformat": 4,
  "nbformat_minor": 0
}